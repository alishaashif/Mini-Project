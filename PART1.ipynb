{
 "cells": [
  {
   "cell_type": "markdown",
   "id": "d3454dac",
   "metadata": {},
   "source": [
    "# Install Requirements"
   ]
  },
  {
   "cell_type": "code",
   "execution_count": 1,
   "id": "24345be2",
   "metadata": {},
   "outputs": [
    {
     "name": "stdout",
     "output_type": "stream",
     "text": [
      "Requirement already satisfied: emoji in c:\\users\\dell\\anaconda3\\lib\\site-packages (1.6.3)\n",
      "Note: you may need to restart the kernel to use updated packages.\n"
     ]
    }
   ],
   "source": [
    "pip install emoji"
   ]
  },
  {
   "cell_type": "code",
   "execution_count": 2,
   "id": "53d53a54",
   "metadata": {},
   "outputs": [
    {
     "name": "stdout",
     "output_type": "stream",
     "text": [
      "Requirement already satisfied: dateparser in c:\\users\\dell\\anaconda3\\lib\\site-packages (1.1.0)\n",
      "Requirement already satisfied: tzlocal in c:\\users\\dell\\anaconda3\\lib\\site-packages (from dateparser) (4.1)\n",
      "Requirement already satisfied: python-dateutil in c:\\users\\dell\\anaconda3\\lib\\site-packages (from dateparser) (2.8.2)\n",
      "Requirement already satisfied: pytz in c:\\users\\dell\\anaconda3\\lib\\site-packages (from dateparser) (2021.3)\n",
      "Requirement already satisfied: regex!=2019.02.19,!=2021.8.27 in c:\\users\\dell\\anaconda3\\lib\\site-packages (from dateparser) (2021.8.3)\n",
      "Requirement already satisfied: six>=1.5 in c:\\users\\dell\\anaconda3\\lib\\site-packages (from python-dateutil->dateparser) (1.16.0)\n",
      "Requirement already satisfied: pytz-deprecation-shim in c:\\users\\dell\\anaconda3\\lib\\site-packages (from tzlocal->dateparser) (0.1.0.post0)\n",
      "Requirement already satisfied: tzdata in c:\\users\\dell\\anaconda3\\lib\\site-packages (from tzlocal->dateparser) (2021.5)\n",
      "Note: you may need to restart the kernel to use updated packages.\n"
     ]
    }
   ],
   "source": [
    "pip install dateparser"
   ]
  },
  {
   "cell_type": "code",
   "execution_count": 3,
   "id": "79372027",
   "metadata": {},
   "outputs": [
    {
     "name": "stdout",
     "output_type": "stream",
     "text": [
      "Requirement already satisfied: jovian in c:\\users\\dell\\anaconda3\\lib\\site-packages (0.2.41)\n",
      "Requirement already satisfied: click in c:\\users\\dell\\anaconda3\\lib\\site-packages (from jovian) (8.0.3)\n",
      "Requirement already satisfied: uuid in c:\\users\\dell\\anaconda3\\lib\\site-packages (from jovian) (1.30)\n",
      "Requirement already satisfied: pyyaml in c:\\users\\dell\\anaconda3\\lib\\site-packages (from jovian) (6.0)\n",
      "Requirement already satisfied: requests in c:\\users\\dell\\anaconda3\\lib\\site-packages (from jovian) (2.26.0)\n",
      "Requirement already satisfied: colorama in c:\\users\\dell\\anaconda3\\lib\\site-packages (from click->jovian) (0.4.4)\n",
      "Requirement already satisfied: idna<4,>=2.5 in c:\\users\\dell\\anaconda3\\lib\\site-packages (from requests->jovian) (3.2)\n",
      "Requirement already satisfied: urllib3<1.27,>=1.21.1 in c:\\users\\dell\\anaconda3\\lib\\site-packages (from requests->jovian) (1.26.7)\n",
      "Requirement already satisfied: charset-normalizer~=2.0.0 in c:\\users\\dell\\anaconda3\\lib\\site-packages (from requests->jovian) (2.0.4)\n",
      "Requirement already satisfied: certifi>=2017.4.17 in c:\\users\\dell\\anaconda3\\lib\\site-packages (from requests->jovian) (2021.10.8)\n",
      "Note: you may need to restart the kernel to use updated packages.\n"
     ]
    }
   ],
   "source": [
    "pip install jovian"
   ]
  },
  {
   "cell_type": "code",
   "execution_count": 4,
   "id": "d5267b17",
   "metadata": {},
   "outputs": [
    {
     "name": "stdout",
     "output_type": "stream",
     "text": [
      "Requirement already satisfied: textblob in c:\\users\\dell\\anaconda3\\lib\\site-packages (0.17.1)\n",
      "Requirement already satisfied: nltk>=3.1 in c:\\users\\dell\\anaconda3\\lib\\site-packages (from textblob) (3.6.7)\n",
      "Requirement already satisfied: joblib in c:\\users\\dell\\anaconda3\\lib\\site-packages (from nltk>=3.1->textblob) (1.1.0)\n",
      "Requirement already satisfied: regex>=2021.8.3 in c:\\users\\dell\\anaconda3\\lib\\site-packages (from nltk>=3.1->textblob) (2021.8.3)\n",
      "Requirement already satisfied: tqdm in c:\\users\\dell\\anaconda3\\lib\\site-packages (from nltk>=3.1->textblob) (4.62.3)\n",
      "Requirement already satisfied: click in c:\\users\\dell\\anaconda3\\lib\\site-packages (from nltk>=3.1->textblob) (8.0.3)\n",
      "Requirement already satisfied: colorama in c:\\users\\dell\\anaconda3\\lib\\site-packages (from click->nltk>=3.1->textblob) (0.4.4)\n",
      "Note: you may need to restart the kernel to use updated packages.\n"
     ]
    }
   ],
   "source": [
    "pip install textblob"
   ]
  },
  {
   "cell_type": "markdown",
   "id": "04508d9b",
   "metadata": {},
   "source": [
    "# Import all"
   ]
  },
  {
   "cell_type": "code",
   "execution_count": 1,
   "id": "070d1eff",
   "metadata": {},
   "outputs": [],
   "source": [
    "import re\n",
    "import matplotlib.pyplot as plot\n",
    "import pandas as pd\n",
    "import numpy as np\n",
    "import seaborn as sns\n",
    "import calendar\n",
    "import datetime as dt\n",
    "from wordcloud import WordCloud,STOPWORDS\n",
    "import emoji\n",
    "from sklearn.feature_extraction.text import CountVectorizer\n",
    "import random\n",
    "from textblob import TextBlob\n",
    "from sklearn.decomposition import LatentDirichletAllocation\n",
    "from sklearn.feature_extraction.text import TfidfVectorizer\n",
    "from sklearn.decomposition import NMF"
   ]
  },
  {
   "cell_type": "code",
   "execution_count": 2,
   "id": "ba89909f",
   "metadata": {},
   "outputs": [],
   "source": [
    "sns.set(rc={'figure.figsize':(14,6)})"
   ]
  },
  {
   "cell_type": "markdown",
   "id": "fdebf6e1",
   "metadata": {},
   "source": [
    "# Data Collecting and preprocessing"
   ]
  },
  {
   "cell_type": "code",
   "execution_count": 3,
   "id": "2eccbca4",
   "metadata": {},
   "outputs": [],
   "source": [
    "def startswithDate(s):\n",
    "    pattern='^([0-2][0-9]|(3)[0-1])(\\/)(((0)[0-9])|((1)[0-2]))(\\/)(\\d{2}|\\d{4}), ([0-9][0-9]):([0-9][0-9]) -'\n",
    "    result=re.match(pattern,s)\n",
    "    if result:\n",
    "        return True\n",
    "    return False"
   ]
  },
  {
   "cell_type": "code",
   "execution_count": 4,
   "id": "dcc11eb1",
   "metadata": {},
   "outputs": [],
   "source": [
    "def startswithAuthor(s):\n",
    "    patterns=['([\\w]+):', # First Name\n",
    "              '([\\w]+[\\s]+[\\w]+):', # First Name + Last Name\n",
    "             '([\\w]+[\\s]+[\\w]+[\\s]+[\\w]+):',  # First Name+ Middle Name + Last Name\n",
    "             '^(\\+\\d{1,2}\\s)?\\(?\\d{3}\\) ((\\(\\d{3}\\) ?)|(\\d{3}-))?\\d{3}-\\d{4}:',  #Mobile Number(US)\n",
    "             '([+]\\d{2} \\d{4} \\d{6}):',  # Mobile Number (Europe)\n",
    "           '([+]\\d{3} \\d{3} \\d{6})'  # Mobile Number (Uganda)\n",
    "             ]\n",
    "    pattern='^'+'|'.join(patterns)\n",
    "    result=re.match(pattern,s)\n",
    "    if result:\n",
    "        return True\n",
    "    return False"
   ]
  },
  {
   "cell_type": "code",
   "execution_count": 5,
   "id": "522d2a41",
   "metadata": {},
   "outputs": [],
   "source": [
    "def getDataPoint(line):\n",
    "    splitLine=line.split(' - ') #splitLine=['18/06/2021, 22:47','Loki: Why do you have two numbers, Arsalan?']\n",
    "    dateTime=splitLine[0] # '18/06/2021, 22:47'\n",
    "    message=' '.join(splitLine[1:]) #'Loki: Why do you have two numbers, Arsalan?'\n",
    "    if startswithAuthor(message): #True\n",
    "        splitmessage=message.split(': ') #splitmessage=['Loki','Why do you have two numbers, Arsalan?']\n",
    "        author=splitmessage[0] #author='Loki'\n",
    "        message=\" \".join(splitmessage[1:]) # message='Why do you have two numbers, Arsalan?''\n",
    "    else:\n",
    "        author=None\n",
    "    return dateTime,author,message"
   ]
  },
  {
   "cell_type": "code",
   "execution_count": 6,
   "id": "bdf95aff",
   "metadata": {},
   "outputs": [],
   "source": [
    "parsedChat=[]\n",
    "convoPath='chat.txt'\n",
    "with open(convoPath,encoding='utf-8') as fp:\n",
    "    fp.readline\n",
    "    messagebuffer=[]\n",
    "    dateTime,author=None,None\n",
    "    \n",
    "    while True:\n",
    "        line=fp.readline()\n",
    "        if not line:\n",
    "            break\n",
    "        line=line.strip()\n",
    "        if startswithDate(line):\n",
    "            if len(messagebuffer)>0:\n",
    "                parsedChat.append([dateTime,author,\" \".join(messagebuffer)])\n",
    "                messagebuffer.clear()\n",
    "                dateTime,author,message=getDataPoint(line)\n",
    "                messagebuffer.append(message)\n",
    "            else:\n",
    "                messagebuffer.append(line)"
   ]
  },
  {
   "cell_type": "code",
   "execution_count": 7,
   "id": "29261d0e",
   "metadata": {},
   "outputs": [
    {
     "data": {
      "text/plain": [
       "[[None, None, '10/10/21, 06:29 - Nandha gect: Gud mrng'],\n",
       " ['10/10/21, 06:30', 'Nandha gect', '<Media omitted>'],\n",
       " ['10/10/21, 06:34', 'Ayisha gect', '👍🏻'],\n",
       " ['10/10/21, 06:43', 'Nivya gect', '👍🏼'],\n",
       " ['10/10/21, 07:31', 'Sumayya gect', 'Mm'],\n",
       " ['10/10/21, 08:55', None, 'Akku mol Gect🥂: 👍🏻'],\n",
       " ['10/10/21, 09:02', 'Sumayya gect', 'Open aavunnillallo'],\n",
       " ['10/10/21, 09:02', 'Sajana gect', 'Illyaa'],\n",
       " ['10/10/21, 09:03', None, 'Praveena mottachii🥚: Aayallo'],\n",
       " ['10/10/21, 09:03', 'Sumayya gect', 'No'],\n",
       " ['10/10/21, 09:03', None, 'Praveena mottachii🥚: Classroomil'],\n",
       " ['10/10/21, 09:03', 'Sumayya gect', 'Browser open aavunnilla'],\n",
       " ['10/10/21, 09:03', 'Sumayya gect', '<Media omitted>'],\n",
       " ['10/10/21, 09:05', 'Sajana gect', 'Inganee nikkaalo'],\n",
       " ['10/10/21, 09:05', 'Sajana gect', '<Media omitted>'],\n",
       " ['10/10/21, 09:05', 'Sumayya gect', 'Aa enikkum'],\n",
       " ['10/10/21, 09:05', 'Sumayya gect', 'Permission kittunnilla'],\n",
       " ['10/10/21, 09:09', 'Sumayya gect', 'Kittyo'],\n",
       " ['10/10/21, 09:09',\n",
       "  'Sumayya gect',\n",
       "  'Sirnem missinem onnum vilichitt edukkunnilla'],\n",
       " ['10/10/21, 09:09', 'Sumayya gect', 'Enth cheyyum'],\n",
       " ['10/10/21, 09:09', 'Sajana gect', 'Illyaa'],\n",
       " ['10/10/21, 09:09', 'Sajana gect', 'Sir switch off aaa'],\n",
       " ['10/10/21, 09:10', 'Sumayya gect', 'Alla edukkunnillal'],\n",
       " ['10/10/21, 09:10', 'Sajana gect', 'Njn vilichappo switch off aaayirunnu'],\n",
       " ['10/10/21, 09:10', 'Niya gect', 'Vegam system thil try cheyth nokiye'],\n",
       " ['10/10/21, 09:11', None, 'Praveena mottachii🥚: Tym aayllee'],\n",
       " ['10/10/21, 09:11', 'Ayisha gect', 'Mm'],\n",
       " ['10/10/21, 09:12', 'Ayisha gect', 'Kainju'],\n",
       " ['10/10/21, 09:12', 'Niya gect', 'Ningal individual mail vechano open akiye'],\n",
       " ['10/10/21, 09:12', 'Sumayya gect', '<Media omitted>'],\n",
       " ['10/10/21, 09:12', 'Sajana gect', 'Atheenn thanna kerye'],\n",
       " ['10/10/21, 09:13', 'Sumayya gect', 'Njanum'],\n",
       " ['10/10/21, 09:16', 'Sumayya gect', 'Lapiln keriya open aavunnund'],\n",
       " ['10/10/21, 09:23', 'Sajana gect', 'Sharyaayi'],\n",
       " ['10/10/21, 09:25', 'Varsha gect', '<Media omitted>'],\n",
       " ['10/10/21, 09:30', 'Sumayya gect', 'Njan ippo ayachu'],\n",
       " ['10/10/21, 09:46', 'Ayisha gect', 'Answers'],\n",
       " ['10/10/21, 09:46', 'Hari gect', 'Answers'],\n",
       " ['10/10/21, 09:46', 'Varsha gect', 'Answers'],\n",
       " ['10/10/21, 09:46', 'Varsha gect', '😂😂😂'],\n",
       " ['10/10/21, 09:46', 'Hari gect', '😂'],\n",
       " ['10/10/21, 09:46', 'Ayisha gect', '😁'],\n",
       " ['10/10/21, 09:50', 'Ayisha gect', '2 marks each'],\n",
       " ['10/10/21, 09:51', 'Varsha gect', 'This message was deleted'],\n",
       " ['10/10/21, 10:00', 'Nandha gect', '<Media omitted>'],\n",
       " ['10/10/21, 10:00', None, 'Aliyan Chala🐓: Ooho'],\n",
       " ['10/10/21, 10:00', 'Varsha gect', '<Media omitted>'],\n",
       " ['10/10/21, 10:00', 'Suppu gect', 'Oky'],\n",
       " ['10/10/21, 10:00', 'Aneena gect', 'Ooo'],\n",
       " ['10/10/21, 10:00', 'Sajana gect', 'Aah'],\n",
       " ['10/10/21, 10:00', 'Sumayya gect', 'Ok'],\n",
       " ['10/10/21, 10:01', 'Jerin gect', 'Ok'],\n",
       " ['10/10/21, 10:01', 'Sumayya gect', 'Wow 1 mark😆'],\n",
       " ['10/10/21, 10:01', 'Ayisha gect', 'No 2 mrks each'],\n",
       " ['10/10/21, 10:02', 'Sumayya gect', 'Aano appo 2 mark🤭'],\n",
       " ['10/10/21, 10:30', 'Varsha gect', 'Adbms vannoo'],\n",
       " ['10/10/21, 10:30', 'Sumayya gect', 'Illa'],\n",
       " ['10/10/21, 10:30', 'Anjana gect', 'Ila'],\n",
       " ['10/10/21, 10:31', 'Aneena gect', 'Illa'],\n",
       " ['10/10/21, 10:31', None, 'Aliyan Chala🐓: Illa'],\n",
       " ['10/10/21, 10:33', None, 'Alisha Ashif🦋: inn veruo'],\n",
       " ['10/10/21, 10:33', None, 'Alisha Ashif🦋: <Media omitted>'],\n",
       " ['10/10/21, 10:33', 'Ayisha gect', '10.45 aano ini🤔'],\n",
       " ['10/10/21, 10:33', 'Sumayya gect', 'Aavee'],\n",
       " ['10/10/21, 10:33', 'Sumayya gect', 'Ariyilla'],\n",
       " ['10/10/21, 10:34', 'Sumayya gect', 'Vannal para'],\n",
       " ['10/10/21, 10:34', 'Nandha gect', '<Media omitted>'],\n",
       " ['10/10/21, 10:34', 'Hari gect', '🤦\\u200d♂️'],\n",
       " ['10/10/21, 10:34', None, 'Alisha Ashif🦋: ok'],\n",
       " ['10/10/21, 10:34', None, 'Aliyan Chala🐓: Uff'],\n",
       " ['10/10/21, 10:34', 'Ayisha gect', 'Mm'],\n",
       " ['10/10/21, 10:34', 'Varsha gect', '<Media omitted>'],\n",
       " ['10/10/21, 10:34', 'Sumayya gect', '🤥'],\n",
       " ['10/10/21, 10:35',\n",
       "  'Nandha gect',\n",
       "  'Link will be available in classroom from 10 35 to 10 50'],\n",
       " ['10/10/21, 10:35', 'Nandha gect', '15 questions are there'],\n",
       " ['10/10/21, 10:35', None, 'Akku mol Gect🥂: Vannillalo'],\n",
       " ['10/10/21, 10:35', 'Ayisha gect', 'Illa'],\n",
       " ['10/10/21, 10:36', None, 'Praveena mottachii🥚: 35 aayallo'],\n",
       " ['10/10/21, 10:36', 'Sumayya gect', 'Ennitt evide'],\n",
       " ['10/10/21, 10:36', 'Sumayya gect', '🤦\\u200d♀️'],\n",
       " ['10/10/21, 10:36', 'Varsha gect', 'Evide'],\n",
       " ['10/10/21, 10:36', None, 'Aliyan Chala🐓: Sadhana evide'],\n",
       " ['10/10/21, 10:36', 'Varsha gect', 'Evide qn !'],\n",
       " ['10/10/21, 10:36', None, 'Malu Thondichi🍗: Evdee'],\n",
       " ['10/10/21, 10:36', None, 'Aliyan Chala🐓: Innenganam varo'],\n",
       " ['10/10/21, 10:36', 'Hari gect', 'Evdeyaan thengaa'],\n",
       " ['10/10/21, 10:36', None, 'Malu Thondichi🍗: 🤣'],\n",
       " ['10/10/21, 10:36', None, 'Alisha Ashif🦋: 🌴'],\n",
       " ['10/10/21, 10:36', None, 'Praveena mottachii🥚: Aahnn'],\n",
       " ['10/10/21, 10:37', 'Varsha gect', '<Media omitted>'],\n",
       " ['10/10/21, 10:37', 'Sumayya gect', '😁'],\n",
       " ['10/10/21, 10:37', 'Ayisha gect', 'Ini pm aayipoyo🥴'],\n",
       " ['10/10/21, 10:37', None, 'Malu Thondichi🍗: 😂'],\n",
       " ['10/10/21, 10:37', 'Sumayya gect', 'Aavim'],\n",
       " ['10/10/21, 10:37', 'Sumayya gect', 'Rathri varum chilappo🤭'],\n",
       " ['10/10/21, 10:37', 'Nandha gect', '<Media omitted>'],\n",
       " ['10/10/21, 10:38', None, 'Akku mol Gect🥂: Time kooti tharan parayanam'],\n",
       " ['10/10/21, 10:38', None, 'Praveena mottachii🥚: pm aavm chelappo 🤦🏻\\u200d♀️'],\n",
       " ['10/10/21, 10:38', 'Hari gect', 'Enthinn😶🙄'],\n",
       " ['10/10/21, 10:38', 'Nandha gect', '<Media omitted>'],\n",
       " ['10/10/21, 10:38', None, 'Akku mol Gect🥂: Ipo thanne 40 aakarayi'],\n",
       " ['10/10/21, 10:39', None, 'Aliyan Chala🐓: 1 min paranj paranj ucha avo ith'],\n",
       " ['10/10/21, 10:39', 'Sreekiran gect', 'Vannu'],\n",
       " ['10/10/21, 10:39', None, 'Malu Thondichi🍗: 20 minute crct tharanm'],\n",
       " ['10/10/21, 10:39', None, 'Malu Thondichi🍗: Vanna'],\n",
       " ['10/10/21, 10:39', 'Aneena gect', 'Vannu'],\n",
       " ['10/10/21, 10:40', 'Nandha gect', '<Media omitted>'],\n",
       " ['10/10/21, 10:41', 'Sumayya gect', 'Ok'],\n",
       " ['10/10/21, 11:03', 'Hari gect', '<Media omitted>'],\n",
       " ['10/10/21, 11:05',\n",
       "  'Anjana gect',\n",
       "  'If any queries, contact me today before 4 PM'],\n",
       " ['10/10/21, 11:06', 'Nandha gect', '<Media omitted>'],\n",
       " ['10/10/21, 11:06', 'Aneena gect', 'Ok'],\n",
       " ['10/10/21, 11:06', 'Sreekiran gect', 'Aa ok'],\n",
       " ['10/10/21, 11:06', 'Varsha gect', 'Ok'],\n",
       " ['10/10/21, 11:07', None, 'Praveena mottachii🥚: Ok'],\n",
       " ['10/10/21, 11:07', 'Niya gect', 'Ok'],\n",
       " ['10/10/21, 11:09', 'Sumayya gect', 'Mm'],\n",
       " ['10/10/21, 20:18', 'Sumayya gect', 'Jlo'],\n",
       " ['10/10/21, 20:18', 'Sumayya gect', 'Hlo'],\n",
       " ['10/10/21, 20:18', None, 'Praveena mottachii🥚: Hii'],\n",
       " ['10/10/21, 20:18', 'Sumayya gect', 'Etha assignment 2'],\n",
       " ['10/10/21, 20:18', 'Sumayya gect', 'Network'],\n",
       " ['10/10/21, 20:19',\n",
       "  'Sreekiran gect',\n",
       "  'Matte 10 questions thannile et labil ittind'],\n",
       " ['10/10/21, 20:20', 'Sumayya gect', 'Aa kandu da'],\n",
       " ['10/10/21, 20:20', 'Sumayya gect', 'Njan marann irikkernnu'],\n",
       " ['10/10/21, 22:12',\n",
       "  'Nandha gect',\n",
       "  'Internals boost cheythanu etirikune okkk....testil kitiya mark alla ketto tell everyone'],\n",
       " ['10/10/21, 22:12', 'Nandha gect', 'Adbms'],\n",
       " ['10/10/21, 22:22', 'Sumayya gect', 'Okkk'],\n",
       " ['10/11/21, 13:54', 'Nandha gect', '<Media omitted>'],\n",
       " ['10/11/21, 14:13', 'Sumayya gect', 'Ok'],\n",
       " ['10/11/21, 14:16', None, 'Praveena mottachii🥚: Okay'],\n",
       " ['11/10/21, 11:18', None, 'Praveena mottachii🥚: <Media omitted>'],\n",
       " ['11/10/21, 11:18', None, 'Praveena mottachii🥚: <Media omitted>'],\n",
       " ['11/10/21, 11:18', None, 'Praveena mottachii🥚: <Media omitted>'],\n",
       " ['11/10/21, 11:18', None, 'Praveena mottachii🥚: <Media omitted>'],\n",
       " ['11/11/21, 20:32', 'Sajana gect', '<Media omitted>'],\n",
       " ['11/12/21, 09:00', 'Nandha gect', '<Media omitted>'],\n",
       " ['11/12/21, 09:01', None, 'Aliyan Chala🐓: <Media omitted>'],\n",
       " ['11/12/21, 09:12', 'Suppu gect', 'Ok'],\n",
       " ['11/12/21, 09:15', 'Sumayya gect', 'Ok'],\n",
       " ['11/12/21, 09:28', 'Shahma gect', 'Ok'],\n",
       " ['11/12/21, 20:29', 'Nandha gect', '<Media omitted>'],\n",
       " ['11/12/21, 20:31', 'Sumayya gect', 'Ohh angane oru sadhanam ndle'],\n",
       " ['11/12/21, 20:31', 'Suppu gect', 'Ok'],\n",
       " ['11/12/21, 20:32', 'Niya gect', '👍🏻'],\n",
       " ['11/12/21, 20:32', 'Sreelakshmi gect', 'Ok'],\n",
       " ['11/12/21, 20:33', 'Nivya gect', 'Ok'],\n",
       " ['11/12/21, 20:33', 'Sajana gect', 'Ok'],\n",
       " ['11/12/21, 20:34', 'Sanika gect', 'Ok'],\n",
       " ['11/12/21, 20:36', None, 'Raich Korichii🐎: Ok da'],\n",
       " ['11/12/21, 21:24', None, 'Akku mol Gect🥂: Ok'],\n",
       " ['11/12/21, 21:36', 'Shahma gect', 'Ok'],\n",
       " ['12/10/21, 17:20',\n",
       "  None,\n",
       "  'Praveena mottachii🥚: Register cheyyaathavarkk naale placement training indaavlla tto..'],\n",
       " ['12/10/21, 17:20',\n",
       "  None,\n",
       "  'Praveena mottachii🥚: Avarkk pinneed vere form varindaavm filleyyaan'],\n",
       " ['12/10/21, 19:30', None, 'Praveena mottachii🥚: <Media omitted>'],\n",
       " ['12/10/21, 19:31',\n",
       "  None,\n",
       "  'Praveena mottachii🥚: Naalathe training schefule an'],\n",
       " ['12/10/21, 19:32', None, 'Aliyan Chala🐓: Okay'],\n",
       " ['12/10/21, 19:52', None, 'Akku mol Gect🥂: Ok'],\n",
       " ['12/10/21, 19:53', 'Aneena gect', 'Ok'],\n",
       " ['12/10/21, 22:06', None, 'Vish gect🧞\\u200d♂: <Media omitted>'],\n",
       " ['12/11/21, 00:01', None, 'Praveena mottachii🥚: <Media omitted>'],\n",
       " ['12/11/21, 00:01',\n",
       "  None,\n",
       "  'Praveena mottachii🥚: Mad Lab status as on 10_12_2021'],\n",
       " ['12/11/21, 15:11', 'Nivya gect', '<Media omitted>'],\n",
       " ['12/11/21, 18:51', None, 'Praveena mottachii🥚: <Media omitted>'],\n",
       " ['12/12/21, 15:47',\n",
       "  'Nandha gect',\n",
       "  'https://classroom.google.com/c/NDQ1OTUwNDYzMDYz?cjc=sc2l2uz'],\n",
       " ['12/12/21, 15:47',\n",
       "  'Nandha gect',\n",
       "  'Please join your DAA classroom using code :sc2l2uz'],\n",
       " ['12/12/21, 20:15', 'Niya gect', '<Media omitted>'],\n",
       " ['12/12/21, 20:15', 'Niya gect', '<Media omitted>'],\n",
       " ['12/12/21, 20:15', 'Niya gect', '<Media omitted>'],\n",
       " ['12/12/21, 20:15', 'Niya gect', '<Media omitted>']]"
      ]
     },
     "execution_count": 7,
     "metadata": {},
     "output_type": "execute_result"
    }
   ],
   "source": [
    "parsedChat"
   ]
  },
  {
   "cell_type": "code",
   "execution_count": 8,
   "id": "55ebe8dd",
   "metadata": {},
   "outputs": [],
   "source": [
    "df=pd.DataFrame(parsedChat,columns=['DateTime','Author','Message'])"
   ]
  },
  {
   "cell_type": "code",
   "execution_count": 9,
   "id": "2bd43bf2",
   "metadata": {},
   "outputs": [
    {
     "data": {
      "text/html": [
       "<div>\n",
       "<style scoped>\n",
       "    .dataframe tbody tr th:only-of-type {\n",
       "        vertical-align: middle;\n",
       "    }\n",
       "\n",
       "    .dataframe tbody tr th {\n",
       "        vertical-align: top;\n",
       "    }\n",
       "\n",
       "    .dataframe thead th {\n",
       "        text-align: right;\n",
       "    }\n",
       "</style>\n",
       "<table border=\"1\" class=\"dataframe\">\n",
       "  <thead>\n",
       "    <tr style=\"text-align: right;\">\n",
       "      <th></th>\n",
       "      <th>DateTime</th>\n",
       "      <th>Author</th>\n",
       "      <th>Message</th>\n",
       "    </tr>\n",
       "  </thead>\n",
       "  <tbody>\n",
       "    <tr>\n",
       "      <th>0</th>\n",
       "      <td>None</td>\n",
       "      <td>None</td>\n",
       "      <td>10/10/21, 06:29 - Nandha gect: Gud mrng</td>\n",
       "    </tr>\n",
       "    <tr>\n",
       "      <th>1</th>\n",
       "      <td>10/10/21, 06:30</td>\n",
       "      <td>Nandha gect</td>\n",
       "      <td>&lt;Media omitted&gt;</td>\n",
       "    </tr>\n",
       "    <tr>\n",
       "      <th>2</th>\n",
       "      <td>10/10/21, 06:34</td>\n",
       "      <td>Ayisha gect</td>\n",
       "      <td>👍🏻</td>\n",
       "    </tr>\n",
       "    <tr>\n",
       "      <th>3</th>\n",
       "      <td>10/10/21, 06:43</td>\n",
       "      <td>Nivya gect</td>\n",
       "      <td>👍🏼</td>\n",
       "    </tr>\n",
       "    <tr>\n",
       "      <th>4</th>\n",
       "      <td>10/10/21, 07:31</td>\n",
       "      <td>Sumayya gect</td>\n",
       "      <td>Mm</td>\n",
       "    </tr>\n",
       "  </tbody>\n",
       "</table>\n",
       "</div>"
      ],
      "text/plain": [
       "          DateTime        Author                                  Message\n",
       "0             None          None  10/10/21, 06:29 - Nandha gect: Gud mrng\n",
       "1  10/10/21, 06:30   Nandha gect                          <Media omitted>\n",
       "2  10/10/21, 06:34   Ayisha gect                                       👍🏻\n",
       "3  10/10/21, 06:43    Nivya gect                                       👍🏼\n",
       "4  10/10/21, 07:31  Sumayya gect                                       Mm"
      ]
     },
     "execution_count": 9,
     "metadata": {},
     "output_type": "execute_result"
    }
   ],
   "source": [
    "df.head()"
   ]
  },
  {
   "cell_type": "code",
   "execution_count": 10,
   "id": "f3db7265",
   "metadata": {},
   "outputs": [
    {
     "data": {
      "text/html": [
       "<div>\n",
       "<style scoped>\n",
       "    .dataframe tbody tr th:only-of-type {\n",
       "        vertical-align: middle;\n",
       "    }\n",
       "\n",
       "    .dataframe tbody tr th {\n",
       "        vertical-align: top;\n",
       "    }\n",
       "\n",
       "    .dataframe thead th {\n",
       "        text-align: right;\n",
       "    }\n",
       "</style>\n",
       "<table border=\"1\" class=\"dataframe\">\n",
       "  <thead>\n",
       "    <tr style=\"text-align: right;\">\n",
       "      <th></th>\n",
       "      <th>DateTime</th>\n",
       "      <th>Author</th>\n",
       "      <th>Message</th>\n",
       "    </tr>\n",
       "  </thead>\n",
       "  <tbody>\n",
       "    <tr>\n",
       "      <th>165</th>\n",
       "      <td>12/12/21, 15:47</td>\n",
       "      <td>Nandha gect</td>\n",
       "      <td>Please join your DAA classroom using code :sc2...</td>\n",
       "    </tr>\n",
       "    <tr>\n",
       "      <th>166</th>\n",
       "      <td>12/12/21, 20:15</td>\n",
       "      <td>Niya gect</td>\n",
       "      <td>&lt;Media omitted&gt;</td>\n",
       "    </tr>\n",
       "    <tr>\n",
       "      <th>167</th>\n",
       "      <td>12/12/21, 20:15</td>\n",
       "      <td>Niya gect</td>\n",
       "      <td>&lt;Media omitted&gt;</td>\n",
       "    </tr>\n",
       "    <tr>\n",
       "      <th>168</th>\n",
       "      <td>12/12/21, 20:15</td>\n",
       "      <td>Niya gect</td>\n",
       "      <td>&lt;Media omitted&gt;</td>\n",
       "    </tr>\n",
       "    <tr>\n",
       "      <th>169</th>\n",
       "      <td>12/12/21, 20:15</td>\n",
       "      <td>Niya gect</td>\n",
       "      <td>&lt;Media omitted&gt;</td>\n",
       "    </tr>\n",
       "  </tbody>\n",
       "</table>\n",
       "</div>"
      ],
      "text/plain": [
       "            DateTime       Author  \\\n",
       "165  12/12/21, 15:47  Nandha gect   \n",
       "166  12/12/21, 20:15    Niya gect   \n",
       "167  12/12/21, 20:15    Niya gect   \n",
       "168  12/12/21, 20:15    Niya gect   \n",
       "169  12/12/21, 20:15    Niya gect   \n",
       "\n",
       "                                               Message  \n",
       "165  Please join your DAA classroom using code :sc2...  \n",
       "166                                    <Media omitted>  \n",
       "167                                    <Media omitted>  \n",
       "168                                    <Media omitted>  \n",
       "169                                    <Media omitted>  "
      ]
     },
     "execution_count": 10,
     "metadata": {},
     "output_type": "execute_result"
    }
   ],
   "source": [
    "df.tail()"
   ]
  },
  {
   "cell_type": "code",
   "execution_count": 11,
   "id": "c5c7c23c",
   "metadata": {},
   "outputs": [
    {
     "data": {
      "text/html": [
       "<div>\n",
       "<style scoped>\n",
       "    .dataframe tbody tr th:only-of-type {\n",
       "        vertical-align: middle;\n",
       "    }\n",
       "\n",
       "    .dataframe tbody tr th {\n",
       "        vertical-align: top;\n",
       "    }\n",
       "\n",
       "    .dataframe thead th {\n",
       "        text-align: right;\n",
       "    }\n",
       "</style>\n",
       "<table border=\"1\" class=\"dataframe\">\n",
       "  <thead>\n",
       "    <tr style=\"text-align: right;\">\n",
       "      <th></th>\n",
       "      <th>DateTime</th>\n",
       "      <th>Author</th>\n",
       "      <th>Message</th>\n",
       "    </tr>\n",
       "  </thead>\n",
       "  <tbody>\n",
       "    <tr>\n",
       "      <th>count</th>\n",
       "      <td>169</td>\n",
       "      <td>124</td>\n",
       "      <td>170</td>\n",
       "    </tr>\n",
       "    <tr>\n",
       "      <th>unique</th>\n",
       "      <td>74</td>\n",
       "      <td>16</td>\n",
       "      <td>113</td>\n",
       "    </tr>\n",
       "    <tr>\n",
       "      <th>top</th>\n",
       "      <td>10/10/21, 10:36</td>\n",
       "      <td>Sumayya gect</td>\n",
       "      <td>&lt;Media omitted&gt;</td>\n",
       "    </tr>\n",
       "    <tr>\n",
       "      <th>freq</th>\n",
       "      <td>12</td>\n",
       "      <td>40</td>\n",
       "      <td>24</td>\n",
       "    </tr>\n",
       "  </tbody>\n",
       "</table>\n",
       "</div>"
      ],
      "text/plain": [
       "               DateTime        Author          Message\n",
       "count               169           124              170\n",
       "unique               74            16              113\n",
       "top     10/10/21, 10:36  Sumayya gect  <Media omitted>\n",
       "freq                 12            40               24"
      ]
     },
     "execution_count": 11,
     "metadata": {},
     "output_type": "execute_result"
    }
   ],
   "source": [
    "df.describe()"
   ]
  },
  {
   "cell_type": "code",
   "execution_count": 12,
   "id": "717aad0f",
   "metadata": {},
   "outputs": [],
   "source": [
    "# No. of images, images are represented by <Media omitted>\n",
    "media=df[df['Message']=='<Media omitted>']"
   ]
  },
  {
   "cell_type": "code",
   "execution_count": 13,
   "id": "bc3d4159",
   "metadata": {},
   "outputs": [],
   "source": [
    "author_media_messages_value_counts=media['Author'].value_counts()\n",
    "top10_author_media_messages_value_counts=author_media_messages_value_counts.head(10)"
   ]
  },
  {
   "cell_type": "code",
   "execution_count": 14,
   "id": "74670988",
   "metadata": {
    "scrolled": true
   },
   "outputs": [
    {
     "data": {
      "text/plain": [
       "Text(0.5, 1.0, 'Most Media Items sent per Author')"
      ]
     },
     "execution_count": 14,
     "metadata": {},
     "output_type": "execute_result"
    },
    {
     "data": {
      "image/png": "[encoded data removed]",
      "text/plain": [
       "<Figure size 1008x432 with 1 Axes>"
      ]
     },
     "metadata": {},
     "output_type": "display_data"
    }
   ],
   "source": [
    "top10_author_media_messages_value_counts.plot.barh()\n",
    "plot.ylabel('Author')\n",
    "plot.xlabel('Media items sent')\n",
    "plot.title('Most Media Items sent per Author')"
   ]
  },
  {
   "cell_type": "code",
   "execution_count": 15,
   "id": "cdd8be91",
   "metadata": {},
   "outputs": [
    {
     "name": "stdout",
     "output_type": "stream",
     "text": [
      "170\n"
     ]
    }
   ],
   "source": [
    "total_messages = df.shape[0]\n",
    "print(total_messages)"
   ]
  },
  {
   "cell_type": "code",
   "execution_count": 16,
   "id": "36f0b431",
   "metadata": {},
   "outputs": [
    {
     "name": "stdout",
     "output_type": "stream",
     "text": [
      "24\n"
     ]
    }
   ],
   "source": [
    "media_messages = df[df['Message'] == '<Media omitted>'].shape[0]\n",
    "print(media_messages)"
   ]
  },
  {
   "cell_type": "code",
   "execution_count": 17,
   "id": "df6d894b",
   "metadata": {},
   "outputs": [],
   "source": [
    "URLPATTERN = r'(https?://\\S+)'\n",
    "df['urlcount'] = df.Message.apply(lambda x: re.findall(URLPATTERN, x)).str.len()"
   ]
  },
  {
   "cell_type": "code",
   "execution_count": 18,
   "id": "81a7bf84",
   "metadata": {},
   "outputs": [],
   "source": [
    "links = np.sum(df.urlcount)"
   ]
  },
  {
   "cell_type": "code",
   "execution_count": 19,
   "id": "f1f9cf77",
   "metadata": {},
   "outputs": [
    {
     "name": "stdout",
     "output_type": "stream",
     "text": [
      "Group Wise Stats\n",
      "Messages: 170\n",
      "Media: 24\n",
      "Links: 1\n"
     ]
    }
   ],
   "source": [
    "print(\"Group Wise Stats\")\n",
    "print(\"Messages:\",total_messages)\n",
    "print(\"Media:\",media_messages)\n",
    "print(\"Links:\",links)"
   ]
  },
  {
   "cell_type": "code",
   "execution_count": null,
   "id": "b12c0a95",
   "metadata": {},
   "outputs": [],
   "source": []
  },
  {
   "cell_type": "code",
   "execution_count": 20,
   "id": "020d8bfd",
   "metadata": {},
   "outputs": [
    {
     "name": "stdout",
     "output_type": "stream",
     "text": [
      "<class 'pandas.core.frame.DataFrame'>\n",
      "Int64Index: 146 entries, 0 to 165\n",
      "Data columns (total 4 columns):\n",
      " #   Column    Non-Null Count  Dtype \n",
      "---  ------    --------------  ----- \n",
      " 0   DateTime  145 non-null    object\n",
      " 1   Author    100 non-null    object\n",
      " 2   Message   146 non-null    object\n",
      " 3   urlcount  146 non-null    int64 \n",
      "dtypes: int64(1), object(3)\n",
      "memory usage: 5.7+ KB\n"
     ]
    }
   ],
   "source": [
    "## Let us Separate the media messages and text messages\n",
    "media_messages_df = df[df['Message'] == '<Media omitted>']\n",
    "messages_df = df.drop(media_messages_df.index)\n",
    "messages_df.info()"
   ]
  },
  {
   "cell_type": "code",
   "execution_count": 21,
   "id": "56b3a6b1",
   "metadata": {},
   "outputs": [],
   "source": [
    "messages_df['Letter_Count'] = messages_df['Message'].apply(lambda s : len(s))\n",
    "messages_df['WordCount'] = messages_df['Message'].apply(lambda s : len(s.split(' ')))\n",
    "messages_df[\"MessageCount\"]=1"
   ]
  },
  {
   "cell_type": "code",
   "execution_count": 22,
   "id": "8714fa8e",
   "metadata": {},
   "outputs": [
    {
     "data": {
      "text/html": [
       "<div>\n",
       "<style scoped>\n",
       "    .dataframe tbody tr th:only-of-type {\n",
       "        vertical-align: middle;\n",
       "    }\n",
       "\n",
       "    .dataframe tbody tr th {\n",
       "        vertical-align: top;\n",
       "    }\n",
       "\n",
       "    .dataframe thead th {\n",
       "        text-align: right;\n",
       "    }\n",
       "</style>\n",
       "<table border=\"1\" class=\"dataframe\">\n",
       "  <thead>\n",
       "    <tr style=\"text-align: right;\">\n",
       "      <th></th>\n",
       "      <th>DateTime</th>\n",
       "      <th>Author</th>\n",
       "      <th>Message</th>\n",
       "      <th>urlcount</th>\n",
       "      <th>Letter_Count</th>\n",
       "      <th>WordCount</th>\n",
       "      <th>MessageCount</th>\n",
       "    </tr>\n",
       "  </thead>\n",
       "  <tbody>\n",
       "    <tr>\n",
       "      <th>0</th>\n",
       "      <td>None</td>\n",
       "      <td>None</td>\n",
       "      <td>10/10/21, 06:29 - Nandha gect: Gud mrng</td>\n",
       "      <td>0</td>\n",
       "      <td>39</td>\n",
       "      <td>7</td>\n",
       "      <td>1</td>\n",
       "    </tr>\n",
       "    <tr>\n",
       "      <th>2</th>\n",
       "      <td>10/10/21, 06:34</td>\n",
       "      <td>Ayisha gect</td>\n",
       "      <td>👍🏻</td>\n",
       "      <td>0</td>\n",
       "      <td>2</td>\n",
       "      <td>1</td>\n",
       "      <td>1</td>\n",
       "    </tr>\n",
       "  </tbody>\n",
       "</table>\n",
       "</div>"
      ],
      "text/plain": [
       "          DateTime       Author                                  Message  \\\n",
       "0             None         None  10/10/21, 06:29 - Nandha gect: Gud mrng   \n",
       "2  10/10/21, 06:34  Ayisha gect                                       👍🏻   \n",
       "\n",
       "   urlcount  Letter_Count  WordCount  MessageCount  \n",
       "0         0            39          7             1  \n",
       "2         0             2          1             1  "
      ]
     },
     "execution_count": 22,
     "metadata": {},
     "output_type": "execute_result"
    }
   ],
   "source": [
    "messages_df.head(2)"
   ]
  },
  {
   "cell_type": "code",
   "execution_count": 30,
   "id": "59adc7cc",
   "metadata": {},
   "outputs": [
    {
     "data": {
      "text/plain": [
       "Text(0.5, 1.0, 'Most Media Items sent per Author')"
      ]
     },
     "execution_count": 30,
     "metadata": {},
     "output_type": "execute_result"
    },
    {
     "data": {
      "image/png": "[encoded data removed]",
      "text/plain": [
       "<Figure size 1008x432 with 1 Axes>"
      ]
     },
     "metadata": {},
     "output_type": "display_data"
    }
   ],
   "source": [
    "top10_author_media_messages_value_counts.plot.barh()\n",
    "plot.ylabel('Author')\n",
    "plot.xlabel('Media items sent')\n",
    "plot.title('Most Media Items sent per Author')"
   ]
  },
  {
   "cell_type": "code",
   "execution_count": 32,
   "id": "135db797",
   "metadata": {},
   "outputs": [],
   "source": [
    "message_deleted=df[df['Message']=='This message was deleted']"
   ]
  },
  {
   "cell_type": "code",
   "execution_count": 35,
   "id": "de067e69",
   "metadata": {},
   "outputs": [
    {
     "data": {
      "text/html": [
       "<div>\n",
       "<style scoped>\n",
       "    .dataframe tbody tr th:only-of-type {\n",
       "        vertical-align: middle;\n",
       "    }\n",
       "\n",
       "    .dataframe tbody tr th {\n",
       "        vertical-align: top;\n",
       "    }\n",
       "\n",
       "    .dataframe thead th {\n",
       "        text-align: right;\n",
       "    }\n",
       "</style>\n",
       "<table border=\"1\" class=\"dataframe\">\n",
       "  <thead>\n",
       "    <tr style=\"text-align: right;\">\n",
       "      <th></th>\n",
       "      <th>DateTime</th>\n",
       "      <th>Author</th>\n",
       "      <th>Message</th>\n",
       "      <th>urlcount</th>\n",
       "    </tr>\n",
       "  </thead>\n",
       "  <tbody>\n",
       "    <tr>\n",
       "      <th>43</th>\n",
       "      <td>10/10/21, 09:51</td>\n",
       "      <td>Varsha gect</td>\n",
       "      <td>This message was deleted</td>\n",
       "      <td>0</td>\n",
       "    </tr>\n",
       "  </tbody>\n",
       "</table>\n",
       "</div>"
      ],
      "text/plain": [
       "           DateTime       Author                   Message  urlcount\n",
       "43  10/10/21, 09:51  Varsha gect  This message was deleted         0"
      ]
     },
     "execution_count": 35,
     "metadata": {},
     "output_type": "execute_result"
    }
   ],
   "source": [
    "message_deleted"
   ]
  },
  {
   "cell_type": "code",
   "execution_count": 36,
   "id": "9341704e",
   "metadata": {},
   "outputs": [],
   "source": [
    "author_messages_deleted_value_counts=message_deleted['Author'].value_counts()"
   ]
  },
  {
   "cell_type": "code",
   "execution_count": 37,
   "id": "2735b569",
   "metadata": {},
   "outputs": [
    {
     "data": {
      "text/plain": [
       "Varsha gect    1\n",
       "Name: Author, dtype: int64"
      ]
     },
     "execution_count": 37,
     "metadata": {},
     "output_type": "execute_result"
    }
   ],
   "source": [
    "author_messages_deleted_value_counts"
   ]
  },
  {
   "cell_type": "code",
   "execution_count": 38,
   "id": "76c9d796",
   "metadata": {},
   "outputs": [],
   "source": [
    "top10_aithor_messages_deleted_value_counts=author_messages_deleted_value_counts.head(10)"
   ]
  },
  {
   "cell_type": "code",
   "execution_count": 39,
   "id": "33cd47d3",
   "metadata": {},
   "outputs": [
    {
     "data": {
      "text/plain": [
       "Text(0.5, 0, 'Message Deleted')"
      ]
     },
     "execution_count": 39,
     "metadata": {},
     "output_type": "execute_result"
    },
    {
     "data": {
      "image/png": "[encoded data removed]",
      "text/plain": [
       "<Figure size 1008x432 with 1 Axes>"
      ]
     },
     "metadata": {},
     "output_type": "display_data"
    }
   ],
   "source": [
    "import matplotlib.pyplot as plt\n",
    "top10_aithor_messages_deleted_value_counts.plot.barh()\n",
    "plt.ylabel('Author')\n",
    "plt.xlabel('Message Deleted')"
   ]
  },
  {
   "cell_type": "code",
   "execution_count": 40,
   "id": "9db0d33e",
   "metadata": {},
   "outputs": [],
   "source": [
    "#Number of Group Notifications\n",
    "grp_notif=df[df['Author']=='grp_notif']"
   ]
  },
  {
   "cell_type": "code",
   "execution_count": 41,
   "id": "2a7a90de",
   "metadata": {},
   "outputs": [
    {
     "data": {
      "text/plain": [
       "(0, 4)"
      ]
     },
     "execution_count": 41,
     "metadata": {},
     "output_type": "execute_result"
    }
   ],
   "source": [
    "grp_notif.shape"
   ]
  },
  {
   "cell_type": "code",
   "execution_count": 43,
   "id": "ff364ce6",
   "metadata": {},
   "outputs": [
    {
     "data": {
      "text/plain": [
       "DateTime     1\n",
       "Author      46\n",
       "Message      0\n",
       "urlcount     0\n",
       "dtype: int64"
      ]
     },
     "execution_count": 43,
     "metadata": {},
     "output_type": "execute_result"
    }
   ],
   "source": [
    "df.isnull().sum()"
   ]
  },
  {
   "cell_type": "code",
   "execution_count": 44,
   "id": "10d612fd",
   "metadata": {},
   "outputs": [],
   "source": [
    "df=df.dropna()"
   ]
  },
  {
   "cell_type": "code",
   "execution_count": 45,
   "id": "1aeed7b4",
   "metadata": {},
   "outputs": [
    {
     "data": {
      "text/plain": [
       "(124, 4)"
      ]
     },
     "execution_count": 45,
     "metadata": {},
     "output_type": "execute_result"
    }
   ],
   "source": [
    "df.shape"
   ]
  },
  {
   "cell_type": "code",
   "execution_count": 46,
   "id": "72a49783",
   "metadata": {},
   "outputs": [],
   "source": [
    "df.reset_index(inplace=True,drop=True)"
   ]
  },
  {
   "cell_type": "markdown",
   "id": "daa4c6d1",
   "metadata": {},
   "source": [
    "Add the dateTime object from dateTime column"
   ]
  },
  {
   "cell_type": "code",
   "execution_count": 48,
   "id": "561a2cc3",
   "metadata": {},
   "outputs": [],
   "source": [
    "df['dateTime']=pd.to_datetime(df['DateTime'],infer_datetime_format=True)"
   ]
  },
  {
   "cell_type": "code",
   "execution_count": 50,
   "id": "4029f61b",
   "metadata": {},
   "outputs": [],
   "source": [
    "df['Day of Week']=pd.Series(pd.Categorical(df['dateTime'].dt.day_name(),categories=list(calendar.day_name)))"
   ]
  },
  {
   "cell_type": "code",
   "execution_count": 51,
   "id": "fc7d4145",
   "metadata": {},
   "outputs": [
    {
     "data": {
      "text/plain": [
       "0      Sunday\n",
       "1      Sunday\n",
       "2      Sunday\n",
       "3      Sunday\n",
       "4      Sunday\n",
       "        ...  \n",
       "119    Sunday\n",
       "120    Sunday\n",
       "121    Sunday\n",
       "122    Sunday\n",
       "123    Sunday\n",
       "Name: Day of Week, Length: 124, dtype: category\n",
       "Categories (7, object): ['Monday', 'Tuesday', 'Wednesday', 'Thursday', 'Friday', 'Saturday', 'Sunday']"
      ]
     },
     "execution_count": 51,
     "metadata": {},
     "output_type": "execute_result"
    }
   ],
   "source": [
    "df['Day of Week']"
   ]
  },
  {
   "cell_type": "code",
   "execution_count": 52,
   "id": "ae159d24",
   "metadata": {},
   "outputs": [],
   "source": [
    "df['Hour']=pd.Series(pd.Categorical(df['dateTime'].dt.hour))"
   ]
  },
  {
   "cell_type": "code",
   "execution_count": 53,
   "id": "4f856571",
   "metadata": {},
   "outputs": [
    {
     "data": {
      "text/plain": [
       "0       6\n",
       "1       6\n",
       "2       6\n",
       "3       7\n",
       "4       9\n",
       "       ..\n",
       "119    15\n",
       "120    20\n",
       "121    20\n",
       "122    20\n",
       "123    20\n",
       "Name: Hour, Length: 124, dtype: category\n",
       "Categories (12, int64): [6, 7, 9, 10, ..., 19, 20, 21, 22]"
      ]
     },
     "execution_count": 53,
     "metadata": {},
     "output_type": "execute_result"
    }
   ],
   "source": [
    "df['Hour']"
   ]
  },
  {
   "cell_type": "code",
   "execution_count": 54,
   "id": "da8439a9",
   "metadata": {},
   "outputs": [],
   "source": [
    "df=df.set_index('dateTime')"
   ]
  },
  {
   "cell_type": "code",
   "execution_count": 55,
   "id": "ab14aefc",
   "metadata": {},
   "outputs": [
    {
     "name": "stdout",
     "output_type": "stream",
     "text": [
      "<class 'pandas.core.frame.DataFrame'>\n",
      "DatetimeIndex: 124 entries, 2021-10-10 06:30:00 to 2021-12-12 20:15:00\n",
      "Data columns (total 6 columns):\n",
      " #   Column       Non-Null Count  Dtype   \n",
      "---  ------       --------------  -----   \n",
      " 0   DateTime     124 non-null    object  \n",
      " 1   Author       124 non-null    object  \n",
      " 2   Message      124 non-null    object  \n",
      " 3   urlcount     124 non-null    int64   \n",
      " 4   Day of Week  124 non-null    category\n",
      " 5   Hour         124 non-null    category\n",
      "dtypes: category(2), int64(1), object(3)\n",
      "memory usage: 5.8+ KB\n"
     ]
    }
   ],
   "source": [
    "df.info()"
   ]
  },
  {
   "cell_type": "code",
   "execution_count": 56,
   "id": "b9c789cd",
   "metadata": {},
   "outputs": [
    {
     "data": {
      "text/html": [
       "<div>\n",
       "<style scoped>\n",
       "    .dataframe tbody tr th:only-of-type {\n",
       "        vertical-align: middle;\n",
       "    }\n",
       "\n",
       "    .dataframe tbody tr th {\n",
       "        vertical-align: top;\n",
       "    }\n",
       "\n",
       "    .dataframe thead th {\n",
       "        text-align: right;\n",
       "    }\n",
       "</style>\n",
       "<table border=\"1\" class=\"dataframe\">\n",
       "  <thead>\n",
       "    <tr style=\"text-align: right;\">\n",
       "      <th></th>\n",
       "      <th>DateTime</th>\n",
       "      <th>Author</th>\n",
       "      <th>Message</th>\n",
       "      <th>urlcount</th>\n",
       "      <th>Day of Week</th>\n",
       "      <th>Hour</th>\n",
       "    </tr>\n",
       "    <tr>\n",
       "      <th>dateTime</th>\n",
       "      <th></th>\n",
       "      <th></th>\n",
       "      <th></th>\n",
       "      <th></th>\n",
       "      <th></th>\n",
       "      <th></th>\n",
       "    </tr>\n",
       "  </thead>\n",
       "  <tbody>\n",
       "    <tr>\n",
       "      <th>2021-10-10 06:30:00</th>\n",
       "      <td>10/10/21, 06:30</td>\n",
       "      <td>Nandha gect</td>\n",
       "      <td>&lt;Media omitted&gt;</td>\n",
       "      <td>0</td>\n",
       "      <td>Sunday</td>\n",
       "      <td>6</td>\n",
       "    </tr>\n",
       "    <tr>\n",
       "      <th>2021-10-10 06:34:00</th>\n",
       "      <td>10/10/21, 06:34</td>\n",
       "      <td>Ayisha gect</td>\n",
       "      <td>👍🏻</td>\n",
       "      <td>0</td>\n",
       "      <td>Sunday</td>\n",
       "      <td>6</td>\n",
       "    </tr>\n",
       "    <tr>\n",
       "      <th>2021-10-10 06:43:00</th>\n",
       "      <td>10/10/21, 06:43</td>\n",
       "      <td>Nivya gect</td>\n",
       "      <td>👍🏼</td>\n",
       "      <td>0</td>\n",
       "      <td>Sunday</td>\n",
       "      <td>6</td>\n",
       "    </tr>\n",
       "    <tr>\n",
       "      <th>2021-10-10 07:31:00</th>\n",
       "      <td>10/10/21, 07:31</td>\n",
       "      <td>Sumayya gect</td>\n",
       "      <td>Mm</td>\n",
       "      <td>0</td>\n",
       "      <td>Sunday</td>\n",
       "      <td>7</td>\n",
       "    </tr>\n",
       "    <tr>\n",
       "      <th>2021-10-10 09:02:00</th>\n",
       "      <td>10/10/21, 09:02</td>\n",
       "      <td>Sumayya gect</td>\n",
       "      <td>Open aavunnillallo</td>\n",
       "      <td>0</td>\n",
       "      <td>Sunday</td>\n",
       "      <td>9</td>\n",
       "    </tr>\n",
       "  </tbody>\n",
       "</table>\n",
       "</div>"
      ],
      "text/plain": [
       "                            DateTime        Author             Message  \\\n",
       "dateTime                                                                 \n",
       "2021-10-10 06:30:00  10/10/21, 06:30   Nandha gect     <Media omitted>   \n",
       "2021-10-10 06:34:00  10/10/21, 06:34   Ayisha gect                  👍🏻   \n",
       "2021-10-10 06:43:00  10/10/21, 06:43    Nivya gect                  👍🏼   \n",
       "2021-10-10 07:31:00  10/10/21, 07:31  Sumayya gect                  Mm   \n",
       "2021-10-10 09:02:00  10/10/21, 09:02  Sumayya gect  Open aavunnillallo   \n",
       "\n",
       "                     urlcount Day of Week Hour  \n",
       "dateTime                                        \n",
       "2021-10-10 06:30:00         0      Sunday    6  \n",
       "2021-10-10 06:34:00         0      Sunday    6  \n",
       "2021-10-10 06:43:00         0      Sunday    6  \n",
       "2021-10-10 07:31:00         0      Sunday    7  \n",
       "2021-10-10 09:02:00         0      Sunday    9  "
      ]
     },
     "execution_count": 56,
     "metadata": {},
     "output_type": "execute_result"
    }
   ],
   "source": [
    "df.head()\n"
   ]
  },
  {
   "cell_type": "code",
   "execution_count": 57,
   "id": "47eafbe9",
   "metadata": {},
   "outputs": [
    {
     "data": {
      "text/html": [
       "<div>\n",
       "<style scoped>\n",
       "    .dataframe tbody tr th:only-of-type {\n",
       "        vertical-align: middle;\n",
       "    }\n",
       "\n",
       "    .dataframe tbody tr th {\n",
       "        vertical-align: top;\n",
       "    }\n",
       "\n",
       "    .dataframe thead th {\n",
       "        text-align: right;\n",
       "    }\n",
       "</style>\n",
       "<table border=\"1\" class=\"dataframe\">\n",
       "  <thead>\n",
       "    <tr style=\"text-align: right;\">\n",
       "      <th></th>\n",
       "      <th>urlcount</th>\n",
       "    </tr>\n",
       "  </thead>\n",
       "  <tbody>\n",
       "    <tr>\n",
       "      <th>count</th>\n",
       "      <td>124.000000</td>\n",
       "    </tr>\n",
       "    <tr>\n",
       "      <th>mean</th>\n",
       "      <td>0.008065</td>\n",
       "    </tr>\n",
       "    <tr>\n",
       "      <th>std</th>\n",
       "      <td>0.089803</td>\n",
       "    </tr>\n",
       "    <tr>\n",
       "      <th>min</th>\n",
       "      <td>0.000000</td>\n",
       "    </tr>\n",
       "    <tr>\n",
       "      <th>25%</th>\n",
       "      <td>0.000000</td>\n",
       "    </tr>\n",
       "    <tr>\n",
       "      <th>50%</th>\n",
       "      <td>0.000000</td>\n",
       "    </tr>\n",
       "    <tr>\n",
       "      <th>75%</th>\n",
       "      <td>0.000000</td>\n",
       "    </tr>\n",
       "    <tr>\n",
       "      <th>max</th>\n",
       "      <td>1.000000</td>\n",
       "    </tr>\n",
       "  </tbody>\n",
       "</table>\n",
       "</div>"
      ],
      "text/plain": [
       "         urlcount\n",
       "count  124.000000\n",
       "mean     0.008065\n",
       "std      0.089803\n",
       "min      0.000000\n",
       "25%      0.000000\n",
       "50%      0.000000\n",
       "75%      0.000000\n",
       "max      1.000000"
      ]
     },
     "execution_count": 57,
     "metadata": {},
     "output_type": "execute_result"
    }
   ],
   "source": [
    "df.describe()"
   ]
  },
  {
   "cell_type": "code",
   "execution_count": 58,
   "id": "8e8881f6",
   "metadata": {},
   "outputs": [],
   "source": [
    "author_value_counts=df['Author'].value_counts()\n",
    "top10_talkers=author_value_counts.head(10)"
   ]
  },
  {
   "cell_type": "code",
   "execution_count": 59,
   "id": "77e394e0",
   "metadata": {},
   "outputs": [
    {
     "data": {
      "text/plain": [
       "Sumayya gect    40\n",
       "Nandha gect     16\n",
       "Ayisha gect     11\n",
       "Sajana gect     11\n",
       "Varsha gect     11\n",
       "Niya gect        8\n",
       "Hari gect        6\n",
       "Aneena gect      5\n",
       "Nivya gect       3\n",
       "Suppu gect       3\n",
       "Name: Author, dtype: int64"
      ]
     },
     "execution_count": 59,
     "metadata": {},
     "output_type": "execute_result"
    }
   ],
   "source": [
    "top10_talkers"
   ]
  },
  {
   "cell_type": "code",
   "execution_count": 60,
   "id": "c1665b9c",
   "metadata": {},
   "outputs": [
    {
     "data": {
      "text/plain": [
       "Text(0.5, 1.0, 'The top 10 Most Talkatie Persons')"
      ]
     },
     "execution_count": 60,
     "metadata": {},
     "output_type": "execute_result"
    },
    {
     "data": {
      "image/png": "[encoded data removed]",
      "text/plain": [
       "<Figure size 1008x432 with 1 Axes>"
      ]
     },
     "metadata": {},
     "output_type": "display_data"
    }
   ],
   "source": [
    "top10_talkers.plot.barh()\n",
    "plt.xlabel('Number of words')\n",
    "plt.ylabel('Authors')\n",
    "plt.title('The top 10 Most Talkatie Persons')"
   ]
  },
  {
   "cell_type": "code",
   "execution_count": 61,
   "id": "86c40323",
   "metadata": {},
   "outputs": [
    {
     "data": {
      "text/html": [
       "<div>\n",
       "<style scoped>\n",
       "    .dataframe tbody tr th:only-of-type {\n",
       "        vertical-align: middle;\n",
       "    }\n",
       "\n",
       "    .dataframe tbody tr th {\n",
       "        vertical-align: top;\n",
       "    }\n",
       "\n",
       "    .dataframe thead th {\n",
       "        text-align: right;\n",
       "    }\n",
       "</style>\n",
       "<table border=\"1\" class=\"dataframe\">\n",
       "  <thead>\n",
       "    <tr style=\"text-align: right;\">\n",
       "      <th></th>\n",
       "      <th>DateTime</th>\n",
       "      <th>Author</th>\n",
       "      <th>Message</th>\n",
       "      <th>urlcount</th>\n",
       "      <th>Day of Week</th>\n",
       "      <th>Hour</th>\n",
       "    </tr>\n",
       "    <tr>\n",
       "      <th>dateTime</th>\n",
       "      <th></th>\n",
       "      <th></th>\n",
       "      <th></th>\n",
       "      <th></th>\n",
       "      <th></th>\n",
       "      <th></th>\n",
       "    </tr>\n",
       "  </thead>\n",
       "  <tbody>\n",
       "    <tr>\n",
       "      <th>2021-10-10 06:30:00</th>\n",
       "      <td>10/10/21, 06:30</td>\n",
       "      <td>Nandha gect</td>\n",
       "      <td>&lt;Media omitted&gt;</td>\n",
       "      <td>0</td>\n",
       "      <td>Sunday</td>\n",
       "      <td>6</td>\n",
       "    </tr>\n",
       "    <tr>\n",
       "      <th>2021-10-10 06:34:00</th>\n",
       "      <td>10/10/21, 06:34</td>\n",
       "      <td>Ayisha gect</td>\n",
       "      <td>👍🏻</td>\n",
       "      <td>0</td>\n",
       "      <td>Sunday</td>\n",
       "      <td>6</td>\n",
       "    </tr>\n",
       "    <tr>\n",
       "      <th>2021-10-10 06:43:00</th>\n",
       "      <td>10/10/21, 06:43</td>\n",
       "      <td>Nivya gect</td>\n",
       "      <td>👍🏼</td>\n",
       "      <td>0</td>\n",
       "      <td>Sunday</td>\n",
       "      <td>6</td>\n",
       "    </tr>\n",
       "    <tr>\n",
       "      <th>2021-10-10 07:31:00</th>\n",
       "      <td>10/10/21, 07:31</td>\n",
       "      <td>Sumayya gect</td>\n",
       "      <td>Mm</td>\n",
       "      <td>0</td>\n",
       "      <td>Sunday</td>\n",
       "      <td>7</td>\n",
       "    </tr>\n",
       "    <tr>\n",
       "      <th>2021-10-10 09:02:00</th>\n",
       "      <td>10/10/21, 09:02</td>\n",
       "      <td>Sumayya gect</td>\n",
       "      <td>Open aavunnillallo</td>\n",
       "      <td>0</td>\n",
       "      <td>Sunday</td>\n",
       "      <td>9</td>\n",
       "    </tr>\n",
       "    <tr>\n",
       "      <th>...</th>\n",
       "      <td>...</td>\n",
       "      <td>...</td>\n",
       "      <td>...</td>\n",
       "      <td>...</td>\n",
       "      <td>...</td>\n",
       "      <td>...</td>\n",
       "    </tr>\n",
       "    <tr>\n",
       "      <th>2021-12-12 15:47:00</th>\n",
       "      <td>12/12/21, 15:47</td>\n",
       "      <td>Nandha gect</td>\n",
       "      <td>Please join your DAA classroom using code :sc2...</td>\n",
       "      <td>0</td>\n",
       "      <td>Sunday</td>\n",
       "      <td>15</td>\n",
       "    </tr>\n",
       "    <tr>\n",
       "      <th>2021-12-12 20:15:00</th>\n",
       "      <td>12/12/21, 20:15</td>\n",
       "      <td>Niya gect</td>\n",
       "      <td>&lt;Media omitted&gt;</td>\n",
       "      <td>0</td>\n",
       "      <td>Sunday</td>\n",
       "      <td>20</td>\n",
       "    </tr>\n",
       "    <tr>\n",
       "      <th>2021-12-12 20:15:00</th>\n",
       "      <td>12/12/21, 20:15</td>\n",
       "      <td>Niya gect</td>\n",
       "      <td>&lt;Media omitted&gt;</td>\n",
       "      <td>0</td>\n",
       "      <td>Sunday</td>\n",
       "      <td>20</td>\n",
       "    </tr>\n",
       "    <tr>\n",
       "      <th>2021-12-12 20:15:00</th>\n",
       "      <td>12/12/21, 20:15</td>\n",
       "      <td>Niya gect</td>\n",
       "      <td>&lt;Media omitted&gt;</td>\n",
       "      <td>0</td>\n",
       "      <td>Sunday</td>\n",
       "      <td>20</td>\n",
       "    </tr>\n",
       "    <tr>\n",
       "      <th>2021-12-12 20:15:00</th>\n",
       "      <td>12/12/21, 20:15</td>\n",
       "      <td>Niya gect</td>\n",
       "      <td>&lt;Media omitted&gt;</td>\n",
       "      <td>0</td>\n",
       "      <td>Sunday</td>\n",
       "      <td>20</td>\n",
       "    </tr>\n",
       "  </tbody>\n",
       "</table>\n",
       "<p>124 rows × 6 columns</p>\n",
       "</div>"
      ],
      "text/plain": [
       "                            DateTime        Author  \\\n",
       "dateTime                                             \n",
       "2021-10-10 06:30:00  10/10/21, 06:30   Nandha gect   \n",
       "2021-10-10 06:34:00  10/10/21, 06:34   Ayisha gect   \n",
       "2021-10-10 06:43:00  10/10/21, 06:43    Nivya gect   \n",
       "2021-10-10 07:31:00  10/10/21, 07:31  Sumayya gect   \n",
       "2021-10-10 09:02:00  10/10/21, 09:02  Sumayya gect   \n",
       "...                              ...           ...   \n",
       "2021-12-12 15:47:00  12/12/21, 15:47   Nandha gect   \n",
       "2021-12-12 20:15:00  12/12/21, 20:15     Niya gect   \n",
       "2021-12-12 20:15:00  12/12/21, 20:15     Niya gect   \n",
       "2021-12-12 20:15:00  12/12/21, 20:15     Niya gect   \n",
       "2021-12-12 20:15:00  12/12/21, 20:15     Niya gect   \n",
       "\n",
       "                                                               Message  \\\n",
       "dateTime                                                                 \n",
       "2021-10-10 06:30:00                                    <Media omitted>   \n",
       "2021-10-10 06:34:00                                                 👍🏻   \n",
       "2021-10-10 06:43:00                                                 👍🏼   \n",
       "2021-10-10 07:31:00                                                 Mm   \n",
       "2021-10-10 09:02:00                                 Open aavunnillallo   \n",
       "...                                                                ...   \n",
       "2021-12-12 15:47:00  Please join your DAA classroom using code :sc2...   \n",
       "2021-12-12 20:15:00                                    <Media omitted>   \n",
       "2021-12-12 20:15:00                                    <Media omitted>   \n",
       "2021-12-12 20:15:00                                    <Media omitted>   \n",
       "2021-12-12 20:15:00                                    <Media omitted>   \n",
       "\n",
       "                     urlcount Day of Week Hour  \n",
       "dateTime                                        \n",
       "2021-10-10 06:30:00         0      Sunday    6  \n",
       "2021-10-10 06:34:00         0      Sunday    6  \n",
       "2021-10-10 06:43:00         0      Sunday    6  \n",
       "2021-10-10 07:31:00         0      Sunday    7  \n",
       "2021-10-10 09:02:00         0      Sunday    9  \n",
       "...                       ...         ...  ...  \n",
       "2021-12-12 15:47:00         0      Sunday   15  \n",
       "2021-12-12 20:15:00         0      Sunday   20  \n",
       "2021-12-12 20:15:00         0      Sunday   20  \n",
       "2021-12-12 20:15:00         0      Sunday   20  \n",
       "2021-12-12 20:15:00         0      Sunday   20  \n",
       "\n",
       "[124 rows x 6 columns]"
      ]
     },
     "execution_count": 61,
     "metadata": {},
     "output_type": "execute_result"
    }
   ],
   "source": [
    "df"
   ]
  },
  {
   "cell_type": "code",
   "execution_count": 62,
   "id": "1b6a1d8f",
   "metadata": {},
   "outputs": [],
   "source": [
    "df['Date']=df['DateTime'].apply(lambda t:t.split(',')[0])"
   ]
  },
  {
   "cell_type": "code",
   "execution_count": 63,
   "id": "c474bf6e",
   "metadata": {},
   "outputs": [
    {
     "data": {
      "text/plain": [
       "dateTime\n",
       "2021-10-10 06:30:00    10/10/21\n",
       "2021-10-10 06:34:00    10/10/21\n",
       "2021-10-10 06:43:00    10/10/21\n",
       "2021-10-10 07:31:00    10/10/21\n",
       "2021-10-10 09:02:00    10/10/21\n",
       "                         ...   \n",
       "2021-12-12 15:47:00    12/12/21\n",
       "2021-12-12 20:15:00    12/12/21\n",
       "2021-12-12 20:15:00    12/12/21\n",
       "2021-12-12 20:15:00    12/12/21\n",
       "2021-12-12 20:15:00    12/12/21\n",
       "Name: Date, Length: 124, dtype: object"
      ]
     },
     "execution_count": 63,
     "metadata": {},
     "output_type": "execute_result"
    }
   ],
   "source": [
    "df['Date']"
   ]
  },
  {
   "cell_type": "code",
   "execution_count": 64,
   "id": "ccc36319",
   "metadata": {},
   "outputs": [
    {
     "data": {
      "text/plain": [
       "Text(0, 0.5, 'Number of messages')"
      ]
     },
     "execution_count": 64,
     "metadata": {},
     "output_type": "execute_result"
    },
    {
     "data": {
      "image/png": "[encoded data removed]",
      "text/plain": [
       "<Figure size 1008x432 with 1 Axes>"
      ]
     },
     "metadata": {},
     "output_type": "display_data"
    }
   ],
   "source": [
    "df.groupby('Date')['Message'].count().plot()\n",
    "plt.ylabel('Number of messages')"
   ]
  },
  {
   "cell_type": "code",
   "execution_count": 65,
   "id": "a027af74",
   "metadata": {},
   "outputs": [],
   "source": [
    "df['Time']=df['DateTime'].apply(lambda t: t.split(',')[1])"
   ]
  },
  {
   "cell_type": "code",
   "execution_count": 66,
   "id": "fe9dbb29",
   "metadata": {},
   "outputs": [
    {
     "data": {
      "text/plain": [
       "dateTime\n",
       "2021-10-10 06:30:00     06:30\n",
       "2021-10-10 06:34:00     06:34\n",
       "2021-10-10 06:43:00     06:43\n",
       "2021-10-10 07:31:00     07:31\n",
       "2021-10-10 09:02:00     09:02\n",
       "                        ...  \n",
       "2021-12-12 15:47:00     15:47\n",
       "2021-12-12 20:15:00     20:15\n",
       "2021-12-12 20:15:00     20:15\n",
       "2021-12-12 20:15:00     20:15\n",
       "2021-12-12 20:15:00     20:15\n",
       "Name: Time, Length: 124, dtype: object"
      ]
     },
     "execution_count": 66,
     "metadata": {},
     "output_type": "execute_result"
    }
   ],
   "source": [
    "df['Time']"
   ]
  },
  {
   "cell_type": "code",
   "execution_count": 67,
   "id": "8764473f",
   "metadata": {},
   "outputs": [
    {
     "data": {
      "text/plain": [
       "Text(0, 0.5, 'Number of messages')"
      ]
     },
     "execution_count": 67,
     "metadata": {},
     "output_type": "execute_result"
    },
    {
     "data": {
      "image/png": "[encoded data removed]",
      "text/plain": [
       "<Figure size 1008x432 with 1 Axes>"
      ]
     },
     "metadata": {},
     "output_type": "display_data"
    }
   ],
   "source": [
    "df.groupby('Time')['Message'].count().plot()\n",
    "plt.ylabel('Number of messages')"
   ]
  },
  {
   "cell_type": "code",
   "execution_count": 68,
   "id": "70597672",
   "metadata": {},
   "outputs": [
    {
     "data": {
      "text/plain": [
       "Text(0, 0.5, 'Number of messages')"
      ]
     },
     "execution_count": 68,
     "metadata": {},
     "output_type": "execute_result"
    },
    {
     "data": {
      "image/png": "[encoded data removed]",
      "text/plain": [
       "<Figure size 1008x432 with 1 Axes>"
      ]
     },
     "metadata": {},
     "output_type": "display_data"
    }
   ],
   "source": [
    "df.groupby('Hour')['Message'].count().plot()\n",
    "plt.ylabel('Number of messages')"
   ]
  },
  {
   "cell_type": "code",
   "execution_count": 69,
   "id": "77b314de",
   "metadata": {},
   "outputs": [],
   "source": [
    "df['Letter Count']=df['Message'].apply(lambda s: len(s))"
   ]
  },
  {
   "cell_type": "code",
   "execution_count": 70,
   "id": "a265a5c7",
   "metadata": {},
   "outputs": [
    {
     "data": {
      "text/plain": [
       "dateTime\n",
       "2021-10-10 06:30:00    15\n",
       "2021-10-10 06:34:00     2\n",
       "2021-10-10 06:43:00     2\n",
       "2021-10-10 07:31:00     2\n",
       "2021-10-10 09:02:00    18\n",
       "                       ..\n",
       "2021-12-12 15:47:00    50\n",
       "2021-12-12 20:15:00    15\n",
       "2021-12-12 20:15:00    15\n",
       "2021-12-12 20:15:00    15\n",
       "2021-12-12 20:15:00    15\n",
       "Name: Letter Count, Length: 124, dtype: int64"
      ]
     },
     "execution_count": 70,
     "metadata": {},
     "output_type": "execute_result"
    }
   ],
   "source": [
    "df['Letter Count']"
   ]
  },
  {
   "cell_type": "code",
   "execution_count": 71,
   "id": "2bf75af2",
   "metadata": {},
   "outputs": [
    {
     "data": {
      "text/plain": [
       "5"
      ]
     },
     "execution_count": 71,
     "metadata": {},
     "output_type": "execute_result"
    }
   ],
   "source": [
    "len('asdas')"
   ]
  },
  {
   "cell_type": "code",
   "execution_count": 72,
   "id": "e9a2784a",
   "metadata": {},
   "outputs": [
    {
     "data": {
      "text/plain": [
       "dateTime\n",
       "2021-10-10 06:30:00    2\n",
       "2021-10-10 06:34:00    1\n",
       "2021-10-10 06:43:00    1\n",
       "2021-10-10 07:31:00    1\n",
       "2021-10-10 09:02:00    2\n",
       "                      ..\n",
       "2021-12-12 15:47:00    8\n",
       "2021-12-12 20:15:00    2\n",
       "2021-12-12 20:15:00    2\n",
       "2021-12-12 20:15:00    2\n",
       "2021-12-12 20:15:00    2\n",
       "Name: Word Count, Length: 124, dtype: int64"
      ]
     },
     "execution_count": 72,
     "metadata": {},
     "output_type": "execute_result"
    }
   ],
   "source": [
    "df['Word Count']=df['Message'].apply(lambda s: len(s.split(' ')))\n",
    "df['Word Count']"
   ]
  },
  {
   "cell_type": "code",
   "execution_count": 73,
   "id": "14f42d5a",
   "metadata": {},
   "outputs": [
    {
     "data": {
      "text/plain": [
       "dateTime\n",
       "2021-10-10 06:30:00                                      <Media omitted>\n",
       "2021-10-10 06:34:00                                                   👍🏻\n",
       "2021-10-10 06:43:00                                                   👍🏼\n",
       "2021-10-10 07:31:00                                                   Mm\n",
       "2021-10-10 09:02:00                                   Open aavunnillallo\n",
       "                                             ...                        \n",
       "2021-12-12 15:47:00    Please join your DAA classroom using code :sc2...\n",
       "2021-12-12 20:15:00                                      <Media omitted>\n",
       "2021-12-12 20:15:00                                      <Media omitted>\n",
       "2021-12-12 20:15:00                                      <Media omitted>\n",
       "2021-12-12 20:15:00                                      <Media omitted>\n",
       "Name: Message, Length: 124, dtype: object"
      ]
     },
     "execution_count": 73,
     "metadata": {},
     "output_type": "execute_result"
    }
   ],
   "source": [
    "df['Message']"
   ]
  },
  {
   "cell_type": "code",
   "execution_count": 74,
   "id": "ed416dfa",
   "metadata": {},
   "outputs": [
    {
     "data": {
      "text/html": [
       "<div>\n",
       "<style scoped>\n",
       "    .dataframe tbody tr th:only-of-type {\n",
       "        vertical-align: middle;\n",
       "    }\n",
       "\n",
       "    .dataframe tbody tr th {\n",
       "        vertical-align: top;\n",
       "    }\n",
       "\n",
       "    .dataframe thead th {\n",
       "        text-align: right;\n",
       "    }\n",
       "</style>\n",
       "<table border=\"1\" class=\"dataframe\">\n",
       "  <thead>\n",
       "    <tr style=\"text-align: right;\">\n",
       "      <th></th>\n",
       "      <th>DateTime</th>\n",
       "      <th>Author</th>\n",
       "      <th>Message</th>\n",
       "      <th>urlcount</th>\n",
       "      <th>Day of Week</th>\n",
       "      <th>Hour</th>\n",
       "      <th>Date</th>\n",
       "      <th>Time</th>\n",
       "      <th>Letter Count</th>\n",
       "      <th>Word Count</th>\n",
       "    </tr>\n",
       "    <tr>\n",
       "      <th>dateTime</th>\n",
       "      <th></th>\n",
       "      <th></th>\n",
       "      <th></th>\n",
       "      <th></th>\n",
       "      <th></th>\n",
       "      <th></th>\n",
       "      <th></th>\n",
       "      <th></th>\n",
       "      <th></th>\n",
       "      <th></th>\n",
       "    </tr>\n",
       "  </thead>\n",
       "  <tbody>\n",
       "    <tr>\n",
       "      <th>2021-10-10 06:30:00</th>\n",
       "      <td>10/10/21, 06:30</td>\n",
       "      <td>Nandha gect</td>\n",
       "      <td>&lt;Media omitted&gt;</td>\n",
       "      <td>0</td>\n",
       "      <td>Sunday</td>\n",
       "      <td>6</td>\n",
       "      <td>10/10/21</td>\n",
       "      <td>06:30</td>\n",
       "      <td>15</td>\n",
       "      <td>2</td>\n",
       "    </tr>\n",
       "    <tr>\n",
       "      <th>2021-10-10 06:34:00</th>\n",
       "      <td>10/10/21, 06:34</td>\n",
       "      <td>Ayisha gect</td>\n",
       "      <td>👍🏻</td>\n",
       "      <td>0</td>\n",
       "      <td>Sunday</td>\n",
       "      <td>6</td>\n",
       "      <td>10/10/21</td>\n",
       "      <td>06:34</td>\n",
       "      <td>2</td>\n",
       "      <td>1</td>\n",
       "    </tr>\n",
       "    <tr>\n",
       "      <th>2021-10-10 06:43:00</th>\n",
       "      <td>10/10/21, 06:43</td>\n",
       "      <td>Nivya gect</td>\n",
       "      <td>👍🏼</td>\n",
       "      <td>0</td>\n",
       "      <td>Sunday</td>\n",
       "      <td>6</td>\n",
       "      <td>10/10/21</td>\n",
       "      <td>06:43</td>\n",
       "      <td>2</td>\n",
       "      <td>1</td>\n",
       "    </tr>\n",
       "    <tr>\n",
       "      <th>2021-10-10 07:31:00</th>\n",
       "      <td>10/10/21, 07:31</td>\n",
       "      <td>Sumayya gect</td>\n",
       "      <td>Mm</td>\n",
       "      <td>0</td>\n",
       "      <td>Sunday</td>\n",
       "      <td>7</td>\n",
       "      <td>10/10/21</td>\n",
       "      <td>07:31</td>\n",
       "      <td>2</td>\n",
       "      <td>1</td>\n",
       "    </tr>\n",
       "    <tr>\n",
       "      <th>2021-10-10 09:02:00</th>\n",
       "      <td>10/10/21, 09:02</td>\n",
       "      <td>Sumayya gect</td>\n",
       "      <td>Open aavunnillallo</td>\n",
       "      <td>0</td>\n",
       "      <td>Sunday</td>\n",
       "      <td>9</td>\n",
       "      <td>10/10/21</td>\n",
       "      <td>09:02</td>\n",
       "      <td>18</td>\n",
       "      <td>2</td>\n",
       "    </tr>\n",
       "    <tr>\n",
       "      <th>...</th>\n",
       "      <td>...</td>\n",
       "      <td>...</td>\n",
       "      <td>...</td>\n",
       "      <td>...</td>\n",
       "      <td>...</td>\n",
       "      <td>...</td>\n",
       "      <td>...</td>\n",
       "      <td>...</td>\n",
       "      <td>...</td>\n",
       "      <td>...</td>\n",
       "    </tr>\n",
       "    <tr>\n",
       "      <th>2021-12-12 15:47:00</th>\n",
       "      <td>12/12/21, 15:47</td>\n",
       "      <td>Nandha gect</td>\n",
       "      <td>Please join your DAA classroom using code :sc2...</td>\n",
       "      <td>0</td>\n",
       "      <td>Sunday</td>\n",
       "      <td>15</td>\n",
       "      <td>12/12/21</td>\n",
       "      <td>15:47</td>\n",
       "      <td>50</td>\n",
       "      <td>8</td>\n",
       "    </tr>\n",
       "    <tr>\n",
       "      <th>2021-12-12 20:15:00</th>\n",
       "      <td>12/12/21, 20:15</td>\n",
       "      <td>Niya gect</td>\n",
       "      <td>&lt;Media omitted&gt;</td>\n",
       "      <td>0</td>\n",
       "      <td>Sunday</td>\n",
       "      <td>20</td>\n",
       "      <td>12/12/21</td>\n",
       "      <td>20:15</td>\n",
       "      <td>15</td>\n",
       "      <td>2</td>\n",
       "    </tr>\n",
       "    <tr>\n",
       "      <th>2021-12-12 20:15:00</th>\n",
       "      <td>12/12/21, 20:15</td>\n",
       "      <td>Niya gect</td>\n",
       "      <td>&lt;Media omitted&gt;</td>\n",
       "      <td>0</td>\n",
       "      <td>Sunday</td>\n",
       "      <td>20</td>\n",
       "      <td>12/12/21</td>\n",
       "      <td>20:15</td>\n",
       "      <td>15</td>\n",
       "      <td>2</td>\n",
       "    </tr>\n",
       "    <tr>\n",
       "      <th>2021-12-12 20:15:00</th>\n",
       "      <td>12/12/21, 20:15</td>\n",
       "      <td>Niya gect</td>\n",
       "      <td>&lt;Media omitted&gt;</td>\n",
       "      <td>0</td>\n",
       "      <td>Sunday</td>\n",
       "      <td>20</td>\n",
       "      <td>12/12/21</td>\n",
       "      <td>20:15</td>\n",
       "      <td>15</td>\n",
       "      <td>2</td>\n",
       "    </tr>\n",
       "    <tr>\n",
       "      <th>2021-12-12 20:15:00</th>\n",
       "      <td>12/12/21, 20:15</td>\n",
       "      <td>Niya gect</td>\n",
       "      <td>&lt;Media omitted&gt;</td>\n",
       "      <td>0</td>\n",
       "      <td>Sunday</td>\n",
       "      <td>20</td>\n",
       "      <td>12/12/21</td>\n",
       "      <td>20:15</td>\n",
       "      <td>15</td>\n",
       "      <td>2</td>\n",
       "    </tr>\n",
       "  </tbody>\n",
       "</table>\n",
       "<p>124 rows × 10 columns</p>\n",
       "</div>"
      ],
      "text/plain": [
       "                            DateTime        Author  \\\n",
       "dateTime                                             \n",
       "2021-10-10 06:30:00  10/10/21, 06:30   Nandha gect   \n",
       "2021-10-10 06:34:00  10/10/21, 06:34   Ayisha gect   \n",
       "2021-10-10 06:43:00  10/10/21, 06:43    Nivya gect   \n",
       "2021-10-10 07:31:00  10/10/21, 07:31  Sumayya gect   \n",
       "2021-10-10 09:02:00  10/10/21, 09:02  Sumayya gect   \n",
       "...                              ...           ...   \n",
       "2021-12-12 15:47:00  12/12/21, 15:47   Nandha gect   \n",
       "2021-12-12 20:15:00  12/12/21, 20:15     Niya gect   \n",
       "2021-12-12 20:15:00  12/12/21, 20:15     Niya gect   \n",
       "2021-12-12 20:15:00  12/12/21, 20:15     Niya gect   \n",
       "2021-12-12 20:15:00  12/12/21, 20:15     Niya gect   \n",
       "\n",
       "                                                               Message  \\\n",
       "dateTime                                                                 \n",
       "2021-10-10 06:30:00                                    <Media omitted>   \n",
       "2021-10-10 06:34:00                                                 👍🏻   \n",
       "2021-10-10 06:43:00                                                 👍🏼   \n",
       "2021-10-10 07:31:00                                                 Mm   \n",
       "2021-10-10 09:02:00                                 Open aavunnillallo   \n",
       "...                                                                ...   \n",
       "2021-12-12 15:47:00  Please join your DAA classroom using code :sc2...   \n",
       "2021-12-12 20:15:00                                    <Media omitted>   \n",
       "2021-12-12 20:15:00                                    <Media omitted>   \n",
       "2021-12-12 20:15:00                                    <Media omitted>   \n",
       "2021-12-12 20:15:00                                    <Media omitted>   \n",
       "\n",
       "                     urlcount Day of Week Hour      Date    Time  \\\n",
       "dateTime                                                           \n",
       "2021-10-10 06:30:00         0      Sunday    6  10/10/21   06:30   \n",
       "2021-10-10 06:34:00         0      Sunday    6  10/10/21   06:34   \n",
       "2021-10-10 06:43:00         0      Sunday    6  10/10/21   06:43   \n",
       "2021-10-10 07:31:00         0      Sunday    7  10/10/21   07:31   \n",
       "2021-10-10 09:02:00         0      Sunday    9  10/10/21   09:02   \n",
       "...                       ...         ...  ...       ...     ...   \n",
       "2021-12-12 15:47:00         0      Sunday   15  12/12/21   15:47   \n",
       "2021-12-12 20:15:00         0      Sunday   20  12/12/21   20:15   \n",
       "2021-12-12 20:15:00         0      Sunday   20  12/12/21   20:15   \n",
       "2021-12-12 20:15:00         0      Sunday   20  12/12/21   20:15   \n",
       "2021-12-12 20:15:00         0      Sunday   20  12/12/21   20:15   \n",
       "\n",
       "                     Letter Count  Word Count  \n",
       "dateTime                                       \n",
       "2021-10-10 06:30:00            15           2  \n",
       "2021-10-10 06:34:00             2           1  \n",
       "2021-10-10 06:43:00             2           1  \n",
       "2021-10-10 07:31:00             2           1  \n",
       "2021-10-10 09:02:00            18           2  \n",
       "...                           ...         ...  \n",
       "2021-12-12 15:47:00            50           8  \n",
       "2021-12-12 20:15:00            15           2  \n",
       "2021-12-12 20:15:00            15           2  \n",
       "2021-12-12 20:15:00            15           2  \n",
       "2021-12-12 20:15:00            15           2  \n",
       "\n",
       "[124 rows x 10 columns]"
      ]
     },
     "execution_count": 74,
     "metadata": {},
     "output_type": "execute_result"
    }
   ],
   "source": [
    "df"
   ]
  },
  {
   "cell_type": "code",
   "execution_count": 75,
   "id": "75b6d766",
   "metadata": {},
   "outputs": [
    {
     "name": "stdout",
     "output_type": "stream",
     "text": [
      "Total Letter Count in the group:1565\n"
     ]
    }
   ],
   "source": [
    "print('Total Letter Count in the group:'+str(df['Letter Count'].sum()))"
   ]
  },
  {
   "cell_type": "code",
   "execution_count": 76,
   "id": "eff7d1e0",
   "metadata": {},
   "outputs": [
    {
     "name": "stdout",
     "output_type": "stream",
     "text": [
      "Total Word Count in the group:265\n"
     ]
    }
   ],
   "source": [
    "print('Total Word Count in the group:'+str(df['Word Count'].sum()))"
   ]
  },
  {
   "cell_type": "markdown",
   "id": "234387b8",
   "metadata": {},
   "source": [
    "# ###What is the most common number of words in a message?"
   ]
  },
  {
   "cell_type": "code",
   "execution_count": 79,
   "id": "6fbb2b37",
   "metadata": {},
   "outputs": [
    {
     "data": {
      "text/plain": [
       "Text(0, 0.5, 'Frequency')"
      ]
     },
     "execution_count": 79,
     "metadata": {},
     "output_type": "execute_result"
    },
    {
     "data": {
      "image/png": "[encoded data removed]",
      "text/plain": [
       "<Figure size 1440x576 with 1 Axes>"
      ]
     },
     "metadata": {},
     "output_type": "display_data"
    }
   ],
   "source": [
    "plt.figure(figsize=(20,8))\n",
    "word_count_value_counts=df['Word Count'].value_counts()\n",
    "top30_word_count=word_count_value_counts.head(30)\n",
    "top30_word_count.plot.bar()\n",
    "plt.xlabel('Word Count')\n",
    "plt.ylabel('Frequency')"
   ]
  },
  {
   "cell_type": "code",
   "execution_count": 80,
   "id": "595ccf73",
   "metadata": {},
   "outputs": [
    {
     "name": "stdout",
     "output_type": "stream",
     "text": [
      "Author\n",
      "Aneena gect          5\n",
      "Anjana gect          2\n",
      "Ayisha gect         11\n",
      "Hari gect            6\n",
      "Jerin gect           1\n",
      "Nandha gect         16\n",
      "Nivya gect           3\n",
      "Niya gect            8\n",
      "Sajana gect         11\n",
      "Sanika gect          1\n",
      "Shahma gect          2\n",
      "Sreekiran gect       3\n",
      "Sreelakshmi gect     1\n",
      "Sumayya gect        40\n",
      "Suppu gect           3\n",
      "Varsha gect         11\n",
      "Name: Author, dtype: int64\n"
     ]
    }
   ],
   "source": [
    "## Summary by user\n",
    "users=df.groupby('Author')['Author'].count()\n",
    "print(users)"
   ]
  },
  {
   "cell_type": "markdown",
   "id": "be0526fd",
   "metadata": {},
   "source": [
    "#### So who exactly writes the most letters?"
   ]
  },
  {
   "cell_type": "code",
   "execution_count": 81,
   "id": "499cab52",
   "metadata": {},
   "outputs": [],
   "source": [
    "total_letter_count_by_author=df[['Author','Letter Count']].groupby('Author').sum()"
   ]
  },
  {
   "cell_type": "code",
   "execution_count": 82,
   "id": "f48a6b33",
   "metadata": {},
   "outputs": [],
   "source": [
    "sorted_total_letter_count_by_author=total_letter_count_by_author.sort_values('Letter Count',ascending=False)\n",
    "top10_sorted_total_letter_grouped_by_author=sorted_total_letter_count_by_author.head(10)"
   ]
  },
  {
   "cell_type": "code",
   "execution_count": 83,
   "id": "3372109f",
   "metadata": {},
   "outputs": [
    {
     "data": {
      "text/plain": [
       "Text(0, 0.5, 'Authors')"
      ]
     },
     "execution_count": 83,
     "metadata": {},
     "output_type": "execute_result"
    },
    {
     "data": {
      "image/png": "[encoded data removed]",
      "text/plain": [
       "<Figure size 1008x432 with 1 Axes>"
      ]
     },
     "metadata": {},
     "output_type": "display_data"
    }
   ],
   "source": [
    "top10_sorted_total_letter_grouped_by_author.plot.barh()\n",
    "plt.xlabel('Number of letters')\n",
    "plt.ylabel('Authors')"
   ]
  },
  {
   "cell_type": "code",
   "execution_count": 84,
   "id": "bec9f635",
   "metadata": {},
   "outputs": [
    {
     "data": {
      "text/plain": [
       "Text(0, 0.5, 'Authors')"
      ]
     },
     "execution_count": 84,
     "metadata": {},
     "output_type": "execute_result"
    },
    {
     "data": {
      "image/png": "[encoded data removed]",
      "text/plain": [
       "<Figure size 1008x432 with 1 Axes>"
      ]
     },
     "metadata": {},
     "output_type": "display_data"
    }
   ],
   "source": [
    "top10_sorted_total_letter_grouped_by_author.plot.barh()\n",
    "plt.xlabel('Number of letters')\n",
    "plt.ylabel('Authors')"
   ]
  },
  {
   "cell_type": "code",
   "execution_count": 85,
   "id": "a7f8a9d9",
   "metadata": {},
   "outputs": [
    {
     "data": {
      "text/plain": [
       "Text(0, 0.5, 'Authors')"
      ]
     },
     "execution_count": 85,
     "metadata": {},
     "output_type": "execute_result"
    },
    {
     "data": {
      "image/png": "[encoded data removed]",
      "text/plain": [
       "<Figure size 1008x432 with 1 Axes>"
      ]
     },
     "metadata": {},
     "output_type": "display_data"
    }
   ],
   "source": [
    "total_letter_count_by_author=df[['Author','Letter Count']].groupby('Author').sum()\n",
    "sorted_total_letter_count_by_author=total_letter_count_by_author.sort_values('Letter Count',ascending=False)\n",
    "sorted_total_letter_grouped_by_author=sorted_total_letter_count_by_author\n",
    "sorted_total_letter_grouped_by_author.plot.barh()\n",
    "plt.xlabel('Number of letters')\n",
    "plt.ylabel('Authors')"
   ]
  },
  {
   "cell_type": "code",
   "execution_count": null,
   "id": "4050880c",
   "metadata": {},
   "outputs": [],
   "source": [
    "Most Common number of letter per message"
   ]
  },
  {
   "cell_type": "code",
   "execution_count": 87,
   "id": "66ae58b0",
   "metadata": {},
   "outputs": [
    {
     "data": {
      "text/plain": [
       "Text(0, 0.5, 'Frequency')"
      ]
     },
     "execution_count": 87,
     "metadata": {},
     "output_type": "execute_result"
    },
    {
     "data": {
      "image/png": "[encoded data removed]",
      "text/plain": [
       "<Figure size 1080x144 with 1 Axes>"
      ]
     },
     "metadata": {},
     "output_type": "display_data"
    }
   ],
   "source": [
    "plt.figure(figsize=(15,2))\n",
    "letter_count_value_counts=df['Letter Count'].value_counts()\n",
    "top30_letter_count_value_counts=letter_count_value_counts.head(30)\n",
    "top30_letter_count_value_counts.plot.bar()\n",
    "plt.xlabel('Letter Count')\n",
    "plt.ylabel('Frequency')"
   ]
  },
  {
   "cell_type": "code",
   "execution_count": null,
   "id": "56601cb3",
   "metadata": {},
   "outputs": [],
   "source": [
    "When was the group most active?"
   ]
  },
  {
   "cell_type": "code",
   "execution_count": 88,
   "id": "ae06d758",
   "metadata": {},
   "outputs": [
    {
     "data": {
      "text/plain": [
       "Text(0, 0.5, 'Day of the Week')"
      ]
     },
     "execution_count": 88,
     "metadata": {},
     "output_type": "execute_result"
    },
    {
     "data": {
      "image/png": "[encoded data removed]",
      "text/plain": [
       "<Figure size 1008x432 with 1 Axes>"
      ]
     },
     "metadata": {},
     "output_type": "display_data"
    }
   ],
   "source": [
    "df['Day of Week'].value_counts().plot.barh()\n",
    "plt.xlabel('Number of Messages')\n",
    "plt.ylabel('Day of the Week')"
   ]
  },
  {
   "cell_type": "code",
   "execution_count": null,
   "id": "e600865b",
   "metadata": {},
   "outputs": [],
   "source": [
    "Any Particular dates?"
   ]
  },
  {
   "cell_type": "code",
   "execution_count": 89,
   "id": "72efa05b",
   "metadata": {},
   "outputs": [
    {
     "data": {
      "text/plain": [
       "Text(0, 0.5, 'Date')"
      ]
     },
     "execution_count": 89,
     "metadata": {},
     "output_type": "execute_result"
    },
    {
     "data": {
      "image/png": "[encoded data removed]",
      "text/plain": [
       "<Figure size 1008x432 with 1 Axes>"
      ]
     },
     "metadata": {},
     "output_type": "display_data"
    }
   ],
   "source": [
    "df['Date'].value_counts().head(10).plot.barh()\n",
    "plt.xlabel('Number of Messages')\n",
    "plt.ylabel('Date')"
   ]
  },
  {
   "cell_type": "code",
   "execution_count": null,
   "id": "e1832bfd",
   "metadata": {},
   "outputs": [],
   "source": [
    "The most active Hour\n",
    "\n",
    "The most suitable time of day to get your message replied to"
   ]
  },
  {
   "cell_type": "code",
   "execution_count": 91,
   "id": "6ccc358f",
   "metadata": {},
   "outputs": [
    {
     "data": {
      "text/plain": [
       "Text(0, 0.5, 'Hour')"
      ]
     },
     "execution_count": 91,
     "metadata": {},
     "output_type": "execute_result"
    },
    {
     "data": {
      "image/png": "[encoded data removed]",
      "text/plain": [
       "<Figure size 1008x432 with 1 Axes>"
      ]
     },
     "metadata": {},
     "output_type": "display_data"
    }
   ],
   "source": [
    "df['Hour'].value_counts().head(10).plot.barh() # Top 10 Times of the day at which the most number of messages sent\n",
    "plt.xlabel('Number of Messages')\n",
    "plt.ylabel('Hour')"
   ]
  },
  {
   "cell_type": "code",
   "execution_count": null,
   "id": "64daff46",
   "metadata": {},
   "outputs": [],
   "source": [
    "df['Hour']"
   ]
  },
  {
   "cell_type": "code",
   "execution_count": 92,
   "id": "49e0231a",
   "metadata": {},
   "outputs": [
    {
     "data": {
      "text/plain": [
       "Text(0, 0.5, 'Time')"
      ]
     },
     "execution_count": 92,
     "metadata": {},
     "output_type": "execute_result"
    },
    {
     "data": {
      "image/png": "[encoded data removed]",
      "text/plain": [
       "<Figure size 1008x432 with 1 Axes>"
      ]
     },
     "metadata": {},
     "output_type": "display_data"
    }
   ],
   "source": [
    "df['Time'].value_counts().head(10).plot.barh() # Top 10 Times of the day at which the most number of messages sent\n",
    "plt.xlabel('Number of Messages')\n",
    "plt.ylabel('Time')"
   ]
  },
  {
   "cell_type": "code",
   "execution_count": null,
   "id": "3d4c4ad7",
   "metadata": {},
   "outputs": [],
   "source": [
    "What are the most commonly used words?"
   ]
  },
  {
   "cell_type": "code",
   "execution_count": 101,
   "id": "a742d959",
   "metadata": {},
   "outputs": [
    {
     "data": {
      "image/png": "[encoded data removed]",
      "text/plain": [
       "<Figure size 720x576 with 1 Axes>"
      ]
     },
     "metadata": {},
     "output_type": "display_data"
    }
   ],
   "source": [
    "common_words=''\n",
    "for val in df['Message'].values:\n",
    "    val=str(val)\n",
    "    tokens=val.split()\n",
    "    \n",
    "    for i in range(len(tokens)):\n",
    "        tokens[i]=tokens[i].lower()\n",
    "    \n",
    "    for words in tokens:\n",
    "        common_words=common_words + words + ''\n",
    "famcloud=WordCloud(width=400,height=400).generate(common_words)\n",
    "\n",
    "plt.figure(figsize=(10,8))\n",
    "plt.imshow(famcloud)\n",
    "plt.axis('off')\n",
    "plt.tight_layout()\n",
    "plt.show()"
   ]
  },
  {
   "cell_type": "code",
   "execution_count": 104,
   "id": "ec4adc38",
   "metadata": {},
   "outputs": [
    {
     "data": {
      "text/plain": [
       "array(['Nandha gect', 'Ayisha gect', 'Nivya gect', 'Sumayya gect',\n",
       "       'Sajana gect', 'Niya gect', 'Varsha gect', 'Hari gect',\n",
       "       'Suppu gect', 'Aneena gect', 'Jerin gect', 'Anjana gect',\n",
       "       'Sreekiran gect', 'Shahma gect', 'Sreelakshmi gect', 'Sanika gect'],\n",
       "      dtype=object)"
      ]
     },
     "execution_count": 104,
     "metadata": {},
     "output_type": "execute_result"
    }
   ],
   "source": [
    "df['Author'].unique()"
   ]
  },
  {
   "cell_type": "code",
   "execution_count": null,
   "id": "36a1140c",
   "metadata": {},
   "outputs": [],
   "source": [
    "Find out the group's top 20 emoji usage"
   ]
  },
  {
   "cell_type": "code",
   "execution_count": 103,
   "id": "7f754e76",
   "metadata": {},
   "outputs": [
    {
     "name": "stdout",
     "output_type": "stream",
     "text": [
      "it - 32\n",
      "en - 8\n",
      "de - 6\n",
      "es - 5\n",
      "fr - 1\n"
     ]
    }
   ],
   "source": [
    "from collections import Counter\n",
    "emojiGrpCtr=Counter()\n",
    "emojis_list=map(lambda x: \"\".join(x.split()),emoji.UNICODE_EMOJI.keys())\n",
    "r=re.compile('|'.join(re.escape(p) for p in emojis_list))\n",
    "for idx,row in df.iterrows():\n",
    "    emojis_found=r.findall(row['Message'])\n",
    "    for emoji_found in emojis_found:\n",
    "        emojiGrpCtr[emoji_found]+=1\n",
    "for item in emojiGrpCtr.most_common(20):\n",
    "    print(item[0] + ' - '+str(item[1]))"
   ]
  },
  {
   "cell_type": "code",
   "execution_count": 105,
   "id": "3a48f779",
   "metadata": {},
   "outputs": [],
   "source": [
    "emojiGrp=pd.DataFrame.from_dict(emojiGrpCtr,orient='index').reset_index()"
   ]
  },
  {
   "cell_type": "code",
   "execution_count": 106,
   "id": "b2b123fd",
   "metadata": {},
   "outputs": [],
   "source": [
    "emojiGrp=emojiGrp.rename(columns={'index':'Emoji',0:'Count'})"
   ]
  },
  {
   "cell_type": "code",
   "execution_count": 107,
   "id": "99e15b16",
   "metadata": {},
   "outputs": [
    {
     "data": {
      "text/html": [
       "<div>\n",
       "<style scoped>\n",
       "    .dataframe tbody tr th:only-of-type {\n",
       "        vertical-align: middle;\n",
       "    }\n",
       "\n",
       "    .dataframe tbody tr th {\n",
       "        vertical-align: top;\n",
       "    }\n",
       "\n",
       "    .dataframe thead th {\n",
       "        text-align: right;\n",
       "    }\n",
       "</style>\n",
       "<table border=\"1\" class=\"dataframe\">\n",
       "  <thead>\n",
       "    <tr style=\"text-align: right;\">\n",
       "      <th></th>\n",
       "      <th>Emoji</th>\n",
       "      <th>Count</th>\n",
       "    </tr>\n",
       "  </thead>\n",
       "  <tbody>\n",
       "    <tr>\n",
       "      <th>0</th>\n",
       "      <td>it</td>\n",
       "      <td>32</td>\n",
       "    </tr>\n",
       "    <tr>\n",
       "      <th>1</th>\n",
       "      <td>en</td>\n",
       "      <td>8</td>\n",
       "    </tr>\n",
       "    <tr>\n",
       "      <th>2</th>\n",
       "      <td>es</td>\n",
       "      <td>5</td>\n",
       "    </tr>\n",
       "    <tr>\n",
       "      <th>3</th>\n",
       "      <td>de</td>\n",
       "      <td>6</td>\n",
       "    </tr>\n",
       "    <tr>\n",
       "      <th>4</th>\n",
       "      <td>fr</td>\n",
       "      <td>1</td>\n",
       "    </tr>\n",
       "  </tbody>\n",
       "</table>\n",
       "</div>"
      ],
      "text/plain": [
       "  Emoji  Count\n",
       "0    it     32\n",
       "1    en      8\n",
       "2    es      5\n",
       "3    de      6\n",
       "4    fr      1"
      ]
     },
     "execution_count": 107,
     "metadata": {},
     "output_type": "execute_result"
    }
   ],
   "source": [
    "emojiGrp.head()"
   ]
  },
  {
   "cell_type": "code",
   "execution_count": null,
   "id": "f07dee23",
   "metadata": {},
   "outputs": [],
   "source": []
  }
 ],
 "metadata": {
  "kernelspec": {
   "display_name": "Python 3 (ipykernel)",
   "language": "python",
   "name": "python3"
  },
  "language_info": {
   "codemirror_mode": {
    "name": "ipython",
    "version": 3
   },
   "file_extension": ".py",
   "mimetype": "text/x-python",
   "name": "python",
   "nbconvert_exporter": "python",
   "pygments_lexer": "ipython3",
   "version": "3.9.7"
  }
 },
 "nbformat": 4,
 "nbformat_minor": 5
}
